{
  "nbformat": 4,
  "nbformat_minor": 0,
  "metadata": {
    "kernelspec": {
      "display_name": "Python 3",
      "language": "python",
      "name": "python3"
    },
    "language_info": {
      "codemirror_mode": {
        "name": "ipython",
        "version": 3
      },
      "file_extension": ".py",
      "mimetype": "text/x-python",
      "name": "python",
      "nbconvert_exporter": "python",
      "pygments_lexer": "ipython3",
      "version": "3.7.3"
    },
    "colab": {
      "name": "015017_PR1_NLPF.ipynb",
      "provenance": []
    }
  },
  "cells": [
    {
      "cell_type": "markdown",
      "metadata": {
        "id": "ecSg3uMOcYdT"
      },
      "source": [
        "## PROJECT BDDA 2\n",
        "### PART 1 INTRODUCTION\n",
        "### UMANG DHAR DWIVEDI 015017\n",
        "##### In the following file we use the data set of covid sentiments and find the accuracy of model ( During or trail we found out that the data set has to be broken down and used in fraction portion for successful run of model.)\n",
        "##### The following project has been done on virtual machine \n",
        "##### 1. START HADOOP USING allstart.sh\n",
        "##### 2. START SPARK USING pysparknb\n",
        "##### 3. Copy the data using hadoop fs -copyFromLocal filename"
      ]
    },
    {
      "cell_type": "code",
      "metadata": {
        "id": "SGxUA3SgcYdZ"
      },
      "source": [
        "import gc # garbage collector has been used to overcome the problems faced during trail run. error such as low memory space."
      ],
      "execution_count": null,
      "outputs": []
    },
    {
      "cell_type": "code",
      "metadata": {
        "id": "s-9fQ8cLcYdc",
        "outputId": "12b7e7ed-8e7e-49a7-f723-37c573fff42b"
      },
      "source": [
        "gc.collect()"
      ],
      "execution_count": null,
      "outputs": [
        {
          "data": {
            "text/plain": [
              "152"
            ]
          },
          "execution_count": 2,
          "metadata": {},
          "output_type": "execute_result"
        }
      ]
    },
    {
      "cell_type": "code",
      "metadata": {
        "id": "zRuAeAjZcYdf"
      },
      "source": [
        "from pyspark.ml import Pipeline \n",
        "from pyspark.ml.feature import CountVectorizer,StringIndexer, RegexTokenizer,StopWordsRemover\n",
        "from pyspark.sql.functions import col, udf,regexp_replace,isnull\n",
        "from pyspark.sql.types import StringType,IntegerType\n",
        "from pyspark.ml.classification import NaiveBayes\n",
        "from pyspark.ml.evaluation import MulticlassClassificationEvaluator\n",
        "from pyspark.sql.functions import length"
      ],
      "execution_count": null,
      "outputs": []
    },
    {
      "cell_type": "code",
      "metadata": {
        "id": "kQoQWaaUcYdg"
      },
      "source": [
        "from pyspark.sql import SparkSession"
      ],
      "execution_count": null,
      "outputs": []
    },
    {
      "cell_type": "code",
      "metadata": {
        "id": "ASYdIjBhcYdh"
      },
      "source": [
        "spark = SparkSession.builder.appName('Bass').getOrCreate()"
      ],
      "execution_count": null,
      "outputs": []
    },
    {
      "cell_type": "code",
      "metadata": {
        "id": "N0uSt9PocYdi"
      },
      "source": [
        "df=spark.read.csv(\"Corona_NLP_train.csv\", sep=\",\", header=True, inferSchema=True)"
      ],
      "execution_count": null,
      "outputs": []
    },
    {
      "cell_type": "code",
      "metadata": {
        "id": "SZstWFwFcYdi"
      },
      "source": [
        "df7= df.sample(fraction=0.7)"
      ],
      "execution_count": null,
      "outputs": []
    },
    {
      "cell_type": "markdown",
      "metadata": {
        "id": "GvU7oWbCcYdj"
      },
      "source": [
        "####  Taking a sample (70%) because the size of the file is too large to perform modelling."
      ]
    },
    {
      "cell_type": "code",
      "metadata": {
        "scrolled": true,
        "id": "YjURHWAzcYdk",
        "outputId": "626a8acf-cc14-4f9a-d529-3603ebe1f45b"
      },
      "source": [
        "df7.show()"
      ],
      "execution_count": null,
      "outputs": [
        {
          "name": "stdout",
          "output_type": "stream",
          "text": [
            "+--------------------+--------------------+--------------------+--------------------+--------------------+------------------+\n",
            "|            UserName|          ScreenName|            Location|             TweetAt|       OriginalTweet|         Sentiment|\n",
            "+--------------------+--------------------+--------------------+--------------------+--------------------+------------------+\n",
            "|                3800|               48752|                  UK|          16-03-2020|advice Talk to yo...|          Positive|\n",
            "|                3801|               48753|           Vagabonds|          16-03-2020|Coronavirus Austr...|          Positive|\n",
            "|              PLEASE|         don't panic| THERE WILL BE EN...|                null|                null|              null|\n",
            "|           Stay calm|          stay safe.|                null|                null|                null|              null|\n",
            "|                3803|               48755|                null|          16-03-2020|Me, ready to go a...|              null|\n",
            "|Not because I'm p...| but because my f...|          but please| don't panic. It ...|                null|              null|\n",
            "|#toiletpapercrisi...|             Neutral|                null|                null|                null|              null|\n",
            "|                3807|               48759|     Atlanta, GA USA|          16-03-2020|Due to COVID-19 o...|          Positive|\n",
            "|                3808|               48760|    BHAVNAGAR,GUJRAT|          16-03-2020|For corona preven...|          Negative|\n",
            "|                3809|               48761|      Makati, Manila|          16-03-2020|All month there h...|           Neutral|\n",
            "|                3810|               48762|Pitt Meadows, BC,...|          16-03-2020|Due to the Covid-...|              null|\n",
            "|The wait time may...| particularly bee...|                null|                null|                null|              null|\n",
            "|                3811|               48763|          Horningsea|          16-03-2020|#horningsea is a ...|Extremely Positive|\n",
            "|                3812|               48764|         Chicago, IL|          16-03-2020|Me: I don't need ...|              null|\n",
            "|Find out more abo...|                null|                null|                null|                null|              null|\n",
            "|#coronavirus #cov...|            Positive|                null|                null|                null|              null|\n",
            "|                3815|               48767|        Saudi Arabia|          16-03-2020|????? ????? ?????...|              null|\n",
            "|?????? ????? ????...|                null|                null|                null|                null|              null|\n",
            "|#????_???? ????? ...|                null|                null|                null|                null|              null|\n",
            "|                3816|               48768|     Ontario, Canada|          16-03-2020|\"@eyeonthearctic ...|              null|\n",
            "+--------------------+--------------------+--------------------+--------------------+--------------------+------------------+\n",
            "only showing top 20 rows\n",
            "\n"
          ]
        }
      ]
    },
    {
      "cell_type": "code",
      "metadata": {
        "id": "HiMc94S-cYdl",
        "outputId": "41edc695-5449-4508-bbf6-ab653067e5bb"
      },
      "source": [
        "df7.count()"
      ],
      "execution_count": null,
      "outputs": [
        {
          "data": {
            "text/plain": [
              "47758"
            ]
          },
          "execution_count": 9,
          "metadata": {},
          "output_type": "execute_result"
        }
      ]
    },
    {
      "cell_type": "code",
      "metadata": {
        "id": "AsRglutdcYdm",
        "outputId": "c03e44b2-3f0f-4e1d-859c-3866df1eefae"
      },
      "source": [
        "df7.columns #to get the header(title of the coulmns)"
      ],
      "execution_count": null,
      "outputs": [
        {
          "data": {
            "text/plain": [
              "['UserName', 'ScreenName', 'Location', 'TweetAt', 'OriginalTweet', 'Sentiment']"
            ]
          },
          "execution_count": 10,
          "metadata": {},
          "output_type": "execute_result"
        }
      ]
    },
    {
      "cell_type": "code",
      "metadata": {
        "id": "-wsAFbQKcYdm",
        "outputId": "c04eaf74-4eb6-428f-81c8-ccb5b71b7ca2"
      },
      "source": [
        "df7.printSchema() #to understand the coulmns attributes,their type if null values permited or not"
      ],
      "execution_count": null,
      "outputs": [
        {
          "name": "stdout",
          "output_type": "stream",
          "text": [
            "root\n",
            " |-- UserName: string (nullable = true)\n",
            " |-- ScreenName: string (nullable = true)\n",
            " |-- Location: string (nullable = true)\n",
            " |-- TweetAt: string (nullable = true)\n",
            " |-- OriginalTweet: string (nullable = true)\n",
            " |-- Sentiment: string (nullable = true)\n",
            "\n"
          ]
        }
      ]
    },
    {
      "cell_type": "code",
      "metadata": {
        "id": "yRuDn7oFcYdo",
        "outputId": "9450d2e2-68ec-4707-8d18-1c18d8baaf43"
      },
      "source": [
        "df7.describe().show() ## used to see the statistical values of the data"
      ],
      "execution_count": null,
      "outputs": [
        {
          "name": "stdout",
          "output_type": "stream",
          "text": [
            "+-------+--------------------+--------------------+--------------------+------------+--------------------+--------------------+\n",
            "|summary|            UserName|          ScreenName|            Location|     TweetAt|       OriginalTweet|           Sentiment|\n",
            "+-------+--------------------+--------------------+--------------------+------------+--------------------+--------------------+\n",
            "|  count|               47755|               39026|               24023|       29287|               29046|               20018|\n",
            "|   mean| 9.594871878485131E7|  184885.56355580172|2.600001766788235...|        10.0|               682.0|                null|\n",
            "| stddev|  9.40864829357664E9|1.9643792152831886E7|1.072007417131545...|         NaN|  1176.0629234866644|                null|\n",
            "|    min|                   ?|                    |                    |            |      Coronavirus...| \"\" Well covid-19...|\n",
            "|    max|Ø  South-based au...|          but for us|ï? ???????'? ????...| she says.\"|Ø  As buyers stoc...| when I also rece...|\n",
            "+-------+--------------------+--------------------+--------------------+------------+--------------------+--------------------+\n",
            "\n"
          ]
        }
      ]
    },
    {
      "cell_type": "code",
      "metadata": {
        "id": "bTvdwL4McYdq",
        "outputId": "f7497144-6eaf-44c5-be97-cd82cf394b3d"
      },
      "source": [
        "df7['sentiment'] ##lets understand SENTIMENT coulmn"
      ],
      "execution_count": null,
      "outputs": [
        {
          "data": {
            "text/plain": [
              "Column<b'sentiment'>"
            ]
          },
          "execution_count": 13,
          "metadata": {},
          "output_type": "execute_result"
        }
      ]
    },
    {
      "cell_type": "code",
      "metadata": {
        "id": "0BnlLJKDcYdr",
        "outputId": "8cffcdd4-61b0-47d5-aa87-dd7f9313d961"
      },
      "source": [
        "type(df7['sentiment']) ##rdd helps in converting data in form of rows and coulmns"
      ],
      "execution_count": null,
      "outputs": [
        {
          "data": {
            "text/plain": [
              "pyspark.sql.column.Column"
            ]
          },
          "execution_count": 14,
          "metadata": {},
          "output_type": "execute_result"
        }
      ]
    },
    {
      "cell_type": "code",
      "metadata": {
        "id": "tjyaAnmecYds",
        "outputId": "10646814-2a94-442c-a4eb-31616c48f3be"
      },
      "source": [
        "df7.select('sentiment').show()"
      ],
      "execution_count": null,
      "outputs": [
        {
          "name": "stdout",
          "output_type": "stream",
          "text": [
            "+------------------+\n",
            "|         sentiment|\n",
            "+------------------+\n",
            "|          Positive|\n",
            "|          Positive|\n",
            "|              null|\n",
            "|              null|\n",
            "|              null|\n",
            "|              null|\n",
            "|              null|\n",
            "|          Positive|\n",
            "|          Negative|\n",
            "|           Neutral|\n",
            "|              null|\n",
            "|              null|\n",
            "|Extremely Positive|\n",
            "|              null|\n",
            "|              null|\n",
            "|              null|\n",
            "|              null|\n",
            "|              null|\n",
            "|              null|\n",
            "|              null|\n",
            "+------------------+\n",
            "only showing top 20 rows\n",
            "\n"
          ]
        }
      ]
    },
    {
      "cell_type": "code",
      "metadata": {
        "id": "ia9kBkApcYdt",
        "outputId": "bc09aa53-3aa0-4e2c-b159-540dd00a9255"
      },
      "source": [
        "type(df7.select('sentiment')) "
      ],
      "execution_count": null,
      "outputs": [
        {
          "data": {
            "text/plain": [
              "pyspark.sql.dataframe.DataFrame"
            ]
          },
          "execution_count": 16,
          "metadata": {},
          "output_type": "execute_result"
        }
      ]
    },
    {
      "cell_type": "code",
      "metadata": {
        "id": "AxTebDR8cYdv",
        "outputId": "3907a114-4674-4799-aa5d-f385e4836dd5"
      },
      "source": [
        "df7.head(2) ##spark stores data in form of rows and coulmns not in form "
      ],
      "execution_count": null,
      "outputs": [
        {
          "data": {
            "text/plain": [
              "[Row(UserName='3800', ScreenName='48752', Location='UK', TweetAt='16-03-2020', OriginalTweet='advice Talk to your neighbours family to exchange phone numbers create contact list with phone numbers of neighbours schools employer chemist GP set up online shopping accounts if poss adequate supplies of regular meds but not over order', Sentiment='Positive'),\n",
              " Row(UserName='3801', ScreenName='48753', Location='Vagabonds', TweetAt='16-03-2020', OriginalTweet='Coronavirus Australia: Woolworths to give elderly, disabled dedicated shopping hours amid COVID-19 outbreak https://t.co/bInCA9Vp8P', Sentiment='Positive')]"
            ]
          },
          "execution_count": 17,
          "metadata": {},
          "output_type": "execute_result"
        }
      ]
    },
    {
      "cell_type": "code",
      "metadata": {
        "id": "6Ax1aRxbcYdw",
        "outputId": "a9d99515-ee43-4b3d-9875-ab1797d6920e"
      },
      "source": [
        "df7.head(30)[4] ## 30 used to take the number of rows and in that we want to view value of row that is numbered 4"
      ],
      "execution_count": null,
      "outputs": [
        {
          "data": {
            "text/plain": [
              "Row(UserName='3803', ScreenName='48755', Location=None, TweetAt='16-03-2020', OriginalTweet='Me, ready to go at supermarket during the #COVID19 outbreak.', Sentiment=None)"
            ]
          },
          "execution_count": 18,
          "metadata": {},
          "output_type": "execute_result"
        }
      ]
    },
    {
      "cell_type": "code",
      "metadata": {
        "id": "bQK-iHM1cYdx",
        "outputId": "224937ac-9e1d-4d7f-cb43-34464c21b962"
      },
      "source": [
        "df.select(['Location','TweetAt','Sentiment']) ##now lets see the values if we only need 3 coulmn"
      ],
      "execution_count": null,
      "outputs": [
        {
          "data": {
            "text/plain": [
              "DataFrame[Location: string, TweetAt: string, Sentiment: string]"
            ]
          },
          "execution_count": 19,
          "metadata": {},
          "output_type": "execute_result"
        }
      ]
    },
    {
      "cell_type": "code",
      "metadata": {
        "id": "jZcXJ0ZLcYdz",
        "outputId": "fcf3f812-b6dc-4940-d070-829d407ca17b"
      },
      "source": [
        "df.select(['Location','TweetAt','Sentiment']).show()"
      ],
      "execution_count": null,
      "outputs": [
        {
          "name": "stdout",
          "output_type": "stream",
          "text": [
            "+--------------------+--------------------+---------+\n",
            "|            Location|             TweetAt|Sentiment|\n",
            "+--------------------+--------------------+---------+\n",
            "|              London|          16-03-2020|  Neutral|\n",
            "|                  UK|          16-03-2020| Positive|\n",
            "|           Vagabonds|          16-03-2020| Positive|\n",
            "|                null|          16-03-2020|     null|\n",
            "| THERE WILL BE EN...|                null|     null|\n",
            "|                null|                null|     null|\n",
            "|                null|                null|     null|\n",
            "|                null|          16-03-2020|     null|\n",
            "|          but please| don't panic. It ...|     null|\n",
            "|                null|                null|     null|\n",
            "|ÜT: 36.319708,-82...|          16-03-2020| Positive|\n",
            "|35.926541,-78.753267|          16-03-2020| Positive|\n",
            "|             Austria|          16-03-2020|     null|\n",
            "|                null|                null|     null|\n",
            "|     Atlanta, GA USA|          16-03-2020| Positive|\n",
            "|    BHAVNAGAR,GUJRAT|          16-03-2020| Negative|\n",
            "|      Makati, Manila|          16-03-2020|  Neutral|\n",
            "|Pitt Meadows, BC,...|          16-03-2020|     null|\n",
            "|                null|                null|     null|\n",
            "|                null|                null|     null|\n",
            "+--------------------+--------------------+---------+\n",
            "only showing top 20 rows\n",
            "\n"
          ]
        }
      ]
    },
    {
      "cell_type": "code",
      "metadata": {
        "id": "piVV36PxcYd0",
        "outputId": "bf0b1ae5-f01b-4349-b781-c3757675a357"
      },
      "source": [
        "df7.groupBy(\"Location\").count().show() ## to see how population is distributed in various LOCATIONS"
      ],
      "execution_count": null,
      "outputs": [
        {
          "name": "stdout",
          "output_type": "stream",
          "text": [
            "+--------------------+-----+\n",
            "|            Location|count|\n",
            "+--------------------+-----+\n",
            "| Brisbane, Australia|    8|\n",
            "|          South Asia|    1|\n",
            "|West Woofle-Dust ...|    1|\n",
            "|   St Petersburg, FL|   11|\n",
            "| All across Michigan|    1|\n",
            "|     Northumberland |    1|\n",
            "|   Dallas, Texas USA|    1|\n",
            "|some where around...|    1|\n",
            "|           Worcester|    3|\n",
            "| Mumbai, Maharashtra|    3|\n",
            "|           Bangalore|   21|\n",
            "|           Norn Iron|    1|\n",
            "|Horsham, Pennsylv...|    1|\n",
            "|            Novi, MI|    1|\n",
            "|Sagaon, Kalyan Do...|    1|\n",
            "|       Shimla  India|    1|\n",
            "|Ferrara, Emilia R...|    1|\n",
            "|      Luton, England|    3|\n",
            "|              Heaven|    1|\n",
            "|         black site |    1|\n",
            "+--------------------+-----+\n",
            "only showing top 20 rows\n",
            "\n"
          ]
        }
      ]
    },
    {
      "cell_type": "code",
      "metadata": {
        "id": "VfKoeXQhcYd0",
        "outputId": "43004176-0147-470a-a4b2-3302e1b6dace"
      },
      "source": [
        "df7.groupby(\"Location\").count().orderBy(\"count\", ascending=False).show() #finding the higest count from a particular location"
      ],
      "execution_count": null,
      "outputs": [
        {
          "name": "stdout",
          "output_type": "stream",
          "text": [
            "+--------------------+-----+\n",
            "|            Location|count|\n",
            "+--------------------+-----+\n",
            "|                null|23735|\n",
            "|              London|  378|\n",
            "|       United States|  375|\n",
            "|     London, England|  358|\n",
            "|        New York, NY|  277|\n",
            "|      Washington, DC|  264|\n",
            "|      United Kingdom|  242|\n",
            "|     Los Angeles, CA|  196|\n",
            "|               India|  183|\n",
            "|                 USA|  157|\n",
            "|                  UK|  154|\n",
            "|           Australia|  152|\n",
            "|            Positive|  144|\n",
            "|              Canada|  138|\n",
            "|            Negative|  126|\n",
            "|England, United K...|  125|\n",
            "|         Chicago, IL|  122|\n",
            "|              Global|  113|\n",
            "|       New York, USA|  106|\n",
            "|  Extremely Negative|  105|\n",
            "+--------------------+-----+\n",
            "only showing top 20 rows\n",
            "\n"
          ]
        }
      ]
    },
    {
      "cell_type": "markdown",
      "metadata": {
        "id": "7tOfjq-7cYd1"
      },
      "source": [
        "#### We select  the columns that are needed for prediction as tweet and its sentiment"
      ]
    },
    {
      "cell_type": "code",
      "metadata": {
        "id": "IorNi7yTcYd2"
      },
      "source": [
        "category = df7.select(\"OriginalTweet\", \"Sentiment\")"
      ],
      "execution_count": null,
      "outputs": []
    },
    {
      "cell_type": "code",
      "metadata": {
        "id": "cDPsdQfCcYd3",
        "outputId": "ba2a2caa-9215-4fe9-8917-9cb161d544d3"
      },
      "source": [
        "category.show()"
      ],
      "execution_count": null,
      "outputs": [
        {
          "name": "stdout",
          "output_type": "stream",
          "text": [
            "+--------------------+------------------+\n",
            "|       OriginalTweet|         Sentiment|\n",
            "+--------------------+------------------+\n",
            "|advice Talk to yo...|          Positive|\n",
            "|Coronavirus Austr...|          Positive|\n",
            "|                null|              null|\n",
            "|                null|              null|\n",
            "|Me, ready to go a...|              null|\n",
            "|                null|              null|\n",
            "|                null|              null|\n",
            "|Due to COVID-19 o...|          Positive|\n",
            "|For corona preven...|          Negative|\n",
            "|All month there h...|           Neutral|\n",
            "|Due to the Covid-...|              null|\n",
            "|                null|              null|\n",
            "|#horningsea is a ...|Extremely Positive|\n",
            "|Me: I don't need ...|              null|\n",
            "|                null|              null|\n",
            "|                null|              null|\n",
            "|????? ????? ?????...|              null|\n",
            "|                null|              null|\n",
            "|                null|              null|\n",
            "|\"@eyeonthearctic ...|              null|\n",
            "+--------------------+------------------+\n",
            "only showing top 20 rows\n",
            "\n"
          ]
        }
      ]
    },
    {
      "cell_type": "markdown",
      "metadata": {
        "id": "HjF56me9cYd4"
      },
      "source": [
        "#### We will Check for NULL values in Sentiment and Tweet"
      ]
    },
    {
      "cell_type": "code",
      "metadata": {
        "id": "5X6aSe_2cYd5"
      },
      "source": [
        "def null_value_count(df7):\n",
        "    null_columns_counts = []\n",
        "    numRows = df7.count()\n",
        "    for k in df7.columns:\n",
        "        nullRows = df7.where(col(k).isNull()).count()\n",
        "        if(nullRows > 0):\n",
        "            temp = k,nullRows\n",
        "            null_columns_counts.append(temp)\n",
        "            return(null_columns_counts)\n",
        "\n"
      ],
      "execution_count": null,
      "outputs": []
    },
    {
      "cell_type": "code",
      "metadata": {
        "id": "oUAfl_pfcYd7"
      },
      "source": [
        "null_columns_count_list = null_value_count(category)"
      ],
      "execution_count": null,
      "outputs": []
    },
    {
      "cell_type": "code",
      "metadata": {
        "id": "sbQSFpstcYd8",
        "outputId": "5842bb2a-271f-4319-a603-072f2423a331"
      },
      "source": [
        "spark.createDataFrame(null_columns_count_list, ['Column_With_Null_Value', 'Null_Values_Count']).show()"
      ],
      "execution_count": null,
      "outputs": [
        {
          "name": "stdout",
          "output_type": "stream",
          "text": [
            "+----------------------+-----------------+\n",
            "|Column_With_Null_Value|Null_Values_Count|\n",
            "+----------------------+-----------------+\n",
            "|         OriginalTweet|            18712|\n",
            "+----------------------+-----------------+\n",
            "\n"
          ]
        }
      ]
    },
    {
      "cell_type": "markdown",
      "metadata": {
        "id": "rLAl7yH6cYd9"
      },
      "source": [
        "#### Dropping the null values"
      ]
    },
    {
      "cell_type": "code",
      "metadata": {
        "id": "wxwqlLwOcYd-"
      },
      "source": [
        "category = category.dropna()"
      ],
      "execution_count": null,
      "outputs": []
    },
    {
      "cell_type": "code",
      "metadata": {
        "id": "Ni_sGtXkcYeC",
        "outputId": "4339f1a5-ffff-4bb4-a957-0a91ec5b7f52"
      },
      "source": [
        "category.show()"
      ],
      "execution_count": null,
      "outputs": [
        {
          "name": "stdout",
          "output_type": "stream",
          "text": [
            "+--------------------+------------------+\n",
            "|       OriginalTweet|         Sentiment|\n",
            "+--------------------+------------------+\n",
            "|advice Talk to yo...|          Positive|\n",
            "|Coronavirus Austr...|          Positive|\n",
            "|Due to COVID-19 o...|          Positive|\n",
            "|For corona preven...|          Negative|\n",
            "|All month there h...|           Neutral|\n",
            "|#horningsea is a ...|Extremely Positive|\n",
            "|For those who are...|          Positive|\n",
            "|with 100  nations...|Extremely Negative|\n",
            "|In preparation fo...|          Negative|\n",
            "|This morning I te...|Extremely Negative|\n",
            "|There Is of in th...|          Negative|\n",
            "|Went to the super...|           Neutral|\n",
            "|Worried about the...|          Positive|\n",
            "|my wife works ret...|          Negative|\n",
            "|Now I can go to t...|          Positive|\n",
            "|CHECK VIDEO ?? ht...|Extremely Negative|\n",
            "|Breaking Story: O...|           Neutral|\n",
            "|This is the line ...|           Neutral|\n",
            "| Please Share  Kn...|Extremely Positive|\n",
            "|\"\"\"Everything we...|            racism|\n",
            "+--------------------+------------------+\n",
            "only showing top 20 rows\n",
            "\n"
          ]
        }
      ]
    },
    {
      "cell_type": "code",
      "metadata": {
        "id": "x43nGTY1cYeF",
        "outputId": "74a3d4eb-9ec1-4615-e22a-b55536fbb3e6"
      },
      "source": [
        "category.count()\n"
      ],
      "execution_count": null,
      "outputs": [
        {
          "data": {
            "text/plain": [
              "20018"
            ]
          },
          "execution_count": 30,
          "metadata": {},
          "output_type": "execute_result"
        }
      ]
    },
    {
      "cell_type": "markdown",
      "metadata": {
        "id": "TLj5rqlecYeH"
      },
      "source": [
        "####  Let's Split text into words"
      ]
    },
    {
      "cell_type": "code",
      "metadata": {
        "id": "nyaetW3rcYeI"
      },
      "source": [
        "regex_tokenizer = RegexTokenizer(inputCol=\"OriginalTweet\", outputCol=\"words\", pattern=\"\\\\W\")\n",
        "raw_words = regex_tokenizer.transform(category)"
      ],
      "execution_count": null,
      "outputs": []
    },
    {
      "cell_type": "code",
      "metadata": {
        "id": "fDs5bLTscYeI",
        "outputId": "70c62df4-a2b4-4cdc-db84-d6c32bc37a3a"
      },
      "source": [
        "raw_words.show()"
      ],
      "execution_count": null,
      "outputs": [
        {
          "name": "stdout",
          "output_type": "stream",
          "text": [
            "+--------------------+------------------+--------------------+\n",
            "|       OriginalTweet|         Sentiment|               words|\n",
            "+--------------------+------------------+--------------------+\n",
            "|advice Talk to yo...|          Positive|[advice, talk, to...|\n",
            "|Coronavirus Austr...|          Positive|[coronavirus, aus...|\n",
            "|Due to COVID-19 o...|          Positive|[due, to, covid, ...|\n",
            "|For corona preven...|          Negative|[for, corona, pre...|\n",
            "|All month there h...|           Neutral|[all, month, ther...|\n",
            "|#horningsea is a ...|Extremely Positive|[horningsea, is, ...|\n",
            "|For those who are...|          Positive|[for, those, who,...|\n",
            "|with 100  nations...|Extremely Negative|[with, 100, natio...|\n",
            "|In preparation fo...|          Negative|[in, preparation,...|\n",
            "|This morning I te...|Extremely Negative|[this, morning, i...|\n",
            "|There Is of in th...|          Negative|[there, is, of, i...|\n",
            "|Went to the super...|           Neutral|[went, to, the, s...|\n",
            "|Worried about the...|          Positive|[worried, about, ...|\n",
            "|my wife works ret...|          Negative|[my, wife, works,...|\n",
            "|Now I can go to t...|          Positive|[now, i, can, go,...|\n",
            "|CHECK VIDEO ?? ht...|Extremely Negative|[check, video, ht...|\n",
            "|Breaking Story: O...|           Neutral|[breaking, story,...|\n",
            "|This is the line ...|           Neutral|[this, is, the, l...|\n",
            "| Please Share  Kn...|Extremely Positive|[please, share, k...|\n",
            "|\"\"\"Everything we...|            racism|[everything, we, ...|\n",
            "+--------------------+------------------+--------------------+\n",
            "only showing top 20 rows\n",
            "\n"
          ]
        }
      ]
    },
    {
      "cell_type": "markdown",
      "metadata": {
        "id": "SWiG-cwrcYeK"
      },
      "source": [
        "Removing Stopwords"
      ]
    },
    {
      "cell_type": "code",
      "metadata": {
        "id": "ZocBVOdpcYeK"
      },
      "source": [
        "remover = StopWordsRemover(inputCol=\"words\", outputCol=\"filtered\")\n",
        "words_df7 = remover.transform(raw_words)"
      ],
      "execution_count": null,
      "outputs": []
    },
    {
      "cell_type": "code",
      "metadata": {
        "id": "5aNArcsXcYeL",
        "outputId": "b6d0c3ac-93b0-4944-e42f-f598dffb66cc"
      },
      "source": [
        "words_df7.select(\"words\",\"filtered\").show(truncate=False)"
      ],
      "execution_count": null,
      "outputs": [
        {
          "name": "stdout",
          "output_type": "stream",
          "text": [
            "+-------------------------------------------------------------------------------------------------------------------------------------------------------------------------------------------------------------------------------------------------------------------------------------------------------------------------------------------+------------------------------------------------------------------------------------------------------------------------------------------------------------------------------------------------------------------------------------------------------------------------------------------+\n",
            "|words                                                                                                                                                                                                                                                                                                                                      |filtered                                                                                                                                                                                                                                                                                  |\n",
            "+-------------------------------------------------------------------------------------------------------------------------------------------------------------------------------------------------------------------------------------------------------------------------------------------------------------------------------------------+------------------------------------------------------------------------------------------------------------------------------------------------------------------------------------------------------------------------------------------------------------------------------------------+\n",
            "|[advice, talk, to, your, neighbours, family, to, exchange, phone, numbers, create, contact, list, with, phone, numbers, of, neighbours, schools, employer, chemist, gp, set, up, online, shopping, accounts, if, poss, adequate, supplies, of, regular, meds, but, not, over, order]                                                       |[advice, talk, neighbours, family, exchange, phone, numbers, create, contact, list, phone, numbers, neighbours, schools, employer, chemist, gp, set, online, shopping, accounts, poss, adequate, supplies, regular, meds, order]                                                          |\n",
            "|[coronavirus, australia, woolworths, to, give, elderly, disabled, dedicated, shopping, hours, amid, covid, 19, outbreak, https, t, co, binca9vp8p]                                                                                                                                                                                         |[coronavirus, australia, woolworths, give, elderly, disabled, dedicated, shopping, hours, amid, covid, 19, outbreak, https, co, binca9vp8p]                                                                                                                                               |\n",
            "|[due, to, covid, 19, our, retail, store, and, classroom, in, atlanta, will, not, be, open, for, walk, in, business, or, classes, for, the, next, two, weeks, beginning, monday, march, 16, we, will, continue, to, process, online, and, phone, orders, as, normal, thank, you, for, your, understanding, https, t, co, kw91zj5o5i]        |[due, covid, 19, retail, store, classroom, atlanta, open, walk, business, classes, next, two, weeks, beginning, monday, march, 16, continue, process, online, phone, orders, normal, thank, understanding, https, co, kw91zj5o5i]                                                         |\n",
            "|[for, corona, prevention, we, should, stop, to, buy, things, with, the, cash, and, should, use, online, payment, methods, because, corona, can, spread, through, the, notes, also, we, should, prefer, online, shopping, from, our, home, it, s, time, to, fight, against, covid, 19, govindia, indiafightscorona]                         |[corona, prevention, stop, buy, things, cash, use, online, payment, methods, corona, spread, notes, also, prefer, online, shopping, home, time, fight, covid, 19, govindia, indiafightscorona]                                                                                            |\n",
            "|[all, month, there, hasn, t, been, crowding, in, the, supermarkets, or, restaurants, however, reducing, all, the, hours, and, closing, the, malls, means, everyone, is, now, using, the, same, entrance, and, dependent, on, a, single, supermarket, manila, lockdown, covid2019, philippines, https, t, co, hxws9lanf9]                   |[month, hasn, crowding, supermarkets, restaurants, however, reducing, hours, closing, malls, means, everyone, using, entrance, dependent, single, supermarket, manila, lockdown, covid2019, philippines, https, co, hxws9lanf9]                                                           |\n",
            "|[horningsea, is, a, caring, community, let, s, all, look, after, the, less, capable, in, our, village, and, ensure, they, stay, healthy, bringing, shopping, to, their, doors, help, with, online, shopping, and, self, isolation, if, you, have, symptoms, or, been, exposed, to, somebody, who, has, https, t, co, lsgrxxhjhh]           |[horningsea, caring, community, let, look, less, capable, village, ensure, stay, healthy, bringing, shopping, doors, help, online, shopping, self, isolation, symptoms, exposed, somebody, https, co, lsgrxxhjhh]                                                                         |\n",
            "|[for, those, who, aren, t, struggling, please, consider, donating, to, a, food, bank, or, a, nonprofit, the, demand, for, these, services, will, increase, as, covid, 19, impacts, jobs, and, people, s, way, of, life]                                                                                                                    |[aren, struggling, please, consider, donating, food, bank, nonprofit, demand, services, increase, covid, 19, impacts, jobs, people, way, life]                                                                                                                                            |\n",
            "|[with, 100, nations, inficted, with, covid, 19, the, world, must, not, play, fair, with, china, 100, goverments, must, demand, china, adopts, new, guilde, lines, on, food, safty, the, chinese, goverment, is, guilty, of, being, irosponcible, with, life, on, a, global, scale]                                                         |[100, nations, inficted, covid, 19, world, must, play, fair, china, 100, goverments, must, demand, china, adopts, new, guilde, lines, food, safty, chinese, goverment, guilty, irosponcible, life, global, scale]                                                                         |\n",
            "|[in, preparation, for, higher, demand, and, a, potential, food, shortage, the, hunger, coalition, purchased, 10, percent, more, food, and, implemented, new, protocols, due, to, the, covid, 19, coronavirus, https, t, co, 5cecytlnyn]                                                                                                    |[preparation, higher, demand, potential, food, shortage, hunger, coalition, purchased, 10, percent, food, implemented, new, protocols, due, covid, 19, coronavirus, https, co, 5cecytlnyn]                                                                                                |\n",
            "|[this, morning, i, tested, positive, for, covid, 19, i, feel, ok, i, have, no, symptoms, so, far, but, have, been, isolated, since, i, found, out, about, my, possible, exposure, to, the, virus, stay, home, people, and, be, pragmatic, i, will, keep, you, updated, on, how, i, m, doing, no, panic, https, t, co, lg7hvmzglz]          |[morning, tested, positive, covid, 19, feel, ok, symptoms, far, isolated, since, found, possible, exposure, virus, stay, home, people, pragmatic, keep, updated, m, panic, https, co, lg7hvmzglz]                                                                                         |\n",
            "|[there, is, of, in, the, country, the, more, empty, shelves, people, see, the, more, buying, ensues, the, more, food, is, out, of, stock]                                                                                                                                                                                                  |[country, empty, shelves, people, see, buying, ensues, food, stock]                                                                                                                                                                                                                       |\n",
            "|[went, to, the, supermarket, yesterday, and, the, toilet, paper, was, gone, has, this, anything, to, do, with, the, corona, virus, covid2019]                                                                                                                                                                                              |[went, supermarket, yesterday, toilet, paper, gone, anything, corona, virus, covid2019]                                                                                                                                                                                                   |\n",
            "|[worried, about, the, impact, of, the, current, covid, 19, pandemic, on, your, finances, we, ve, just, published, some, tips, to, help, you, manage, your, money, during, these, challenging, times, covid19, https, t, co, 3jkk3cqxfq, https, t, co, ebenurmmjs]                                                                          |[worried, impact, current, covid, 19, pandemic, finances, ve, published, tips, help, manage, money, challenging, times, covid19, https, co, 3jkk3cqxfq, https, co, ebenurmmjs]                                                                                                            |\n",
            "|[my, wife, works, retail, amp, a, customer, came, in, yesterday, coughing, everywhere, saying, they, have, covid, 19, they, requested, a, deep, clean, of, the, store, her, company, objected, to, due, to, cost, recommending, the, team, spray, disinfectant, amp, clean, themselves, we, re, gonna, die, get, sick, due, to, capitalism]|[wife, works, retail, amp, customer, came, yesterday, coughing, everywhere, saying, covid, 19, requested, deep, clean, store, company, objected, due, cost, recommending, team, spray, disinfectant, amp, clean, re, gonna, die, get, sick, due, capitalism]                              |\n",
            "|[now, i, can, go, to, the, supermarket, like, this, without, being, judged, coronavirusoutbreak, covid2019, https, t, co, krtcgiuhqs]                                                                                                                                                                                                      |[go, supermarket, like, without, judged, coronavirusoutbreak, covid2019, https, co, krtcgiuhqs]                                                                                                                                                                                           |\n",
            "|[check, video, https, t, co, 1ksn9brl02, no, food, in, usa, market, due, to, coronavirus, panic, we, gonna, die, from, starvation, coronavirusoutbreak, coronavirus, houston, nofood, notoiletpaper, nohandshakes, nohandsanitizer, covid19, pandemic, totallockdown, covid2019usa, walmart, https, t, co, ztn3imkgpd]                     |[check, video, https, co, 1ksn9brl02, food, usa, market, due, coronavirus, panic, gonna, die, starvation, coronavirusoutbreak, coronavirus, houston, nofood, notoiletpaper, nohandshakes, nohandsanitizer, covid19, pandemic, totallockdown, covid2019usa, walmart, https, co, ztn3imkgpd]|\n",
            "|[breaking, story, online, clothes, shopping, rises, as, people, find, mysterious, white, patches, forming, on, clothes, quarantinelife, coronavirusoutbreak, coronavirus, imadethisup, fakenews, https, t, co, 5z24hptt9m]                                                                                                                 |[breaking, story, online, clothes, shopping, rises, people, find, mysterious, white, patches, forming, clothes, quarantinelife, coronavirusoutbreak, coronavirus, imadethisup, fakenews, https, co, 5z24hptt9m]                                                                           |\n",
            "|[this, is, the, line, outside, target, in, as, customers, wait, for, the, store, to, open, this, morning]                                                                                                                                                                                                                                  |[line, outside, target, customers, wait, store, open, morning]                                                                                                                                                                                                                            |\n",
            "|[please, share, know, someone, who, s, 65, living, on, their, own, struggling, to, get, 2, their, local, supermarket, due, to, issues, around, 19, we, re, offering, free, deliveries, of, our, healthy, soups, nationwide, to, anyone, 65, in, need, plus, their, freezable]                                                              |[please, share, know, someone, 65, living, struggling, get, 2, local, supermarket, due, issues, around, 19, re, offering, free, deliveries, healthy, soups, nationwide, anyone, 65, need, plus, freezable]                                                                                |\n",
            "|[everything, we, re, seeing, in, the, current, covid, 19, outbreak, has, been, seen, before, in, previous, epidemics, and, pandemics, the, rise, of, fear]                                                                                                                                                                                 |[everything, re, seeing, current, covid, 19, outbreak, seen, previous, epidemics, pandemics, rise, fear]                                                                                                                                                                                  |\n",
            "+-------------------------------------------------------------------------------------------------------------------------------------------------------------------------------------------------------------------------------------------------------------------------------------------------------------------------------------------+------------------------------------------------------------------------------------------------------------------------------------------------------------------------------------------------------------------------------------------------------------------------------------------+\n",
            "only showing top 20 rows\n",
            "\n"
          ]
        }
      ]
    },
    {
      "cell_type": "markdown",
      "metadata": {
        "id": "juFbvPmAcYeN"
      },
      "source": [
        "#### Now we will Encode the Sentiment column"
      ]
    },
    {
      "cell_type": "code",
      "metadata": {
        "id": "l-sdwOuOcYeO"
      },
      "source": [
        "indexer = StringIndexer(inputCol=\"Sentiment\", outputCol=\"SentimentIndex\")\n",
        "feature_data = indexer.fit(words_df7).transform(words_df7)"
      ],
      "execution_count": null,
      "outputs": []
    },
    {
      "cell_type": "code",
      "metadata": {
        "id": "9XsGFAbYcYeP",
        "outputId": "b2d0a09b-7d60-42e4-f63d-cf9d88394843"
      },
      "source": [
        "feature_data.select(\"Sentiment\",\"SentimentIndex\").show()"
      ],
      "execution_count": null,
      "outputs": [
        {
          "name": "stdout",
          "output_type": "stream",
          "text": [
            "+------------------+--------------+\n",
            "|         Sentiment|SentimentIndex|\n",
            "+------------------+--------------+\n",
            "|          Positive|           0.0|\n",
            "|          Positive|           0.0|\n",
            "|          Positive|           0.0|\n",
            "|          Negative|           1.0|\n",
            "|           Neutral|           2.0|\n",
            "|Extremely Positive|           3.0|\n",
            "|          Positive|           0.0|\n",
            "|Extremely Negative|           4.0|\n",
            "|          Negative|           1.0|\n",
            "|Extremely Negative|           4.0|\n",
            "|          Negative|           1.0|\n",
            "|           Neutral|           2.0|\n",
            "|          Positive|           0.0|\n",
            "|          Negative|           1.0|\n",
            "|          Positive|           0.0|\n",
            "|Extremely Negative|           4.0|\n",
            "|           Neutral|           2.0|\n",
            "|           Neutral|           2.0|\n",
            "|Extremely Positive|           3.0|\n",
            "|            racism|         281.0|\n",
            "+------------------+--------------+\n",
            "only showing top 20 rows\n",
            "\n"
          ]
        }
      ]
    },
    {
      "cell_type": "markdown",
      "metadata": {
        "id": "Zgl4DO2ncYeR"
      },
      "source": [
        "\n",
        "\n",
        "#### We will Convert text into vectors of token counts.\n"
      ]
    },
    {
      "cell_type": "code",
      "metadata": {
        "id": "6tPr177kcYeR"
      },
      "source": [
        "cv = CountVectorizer(inputCol=\"filtered\", outputCol=\"features\")\n",
        "model = cv.fit(feature_data)\n",
        "countVectorizer_feateures = model.transform(feature_data)"
      ],
      "execution_count": null,
      "outputs": []
    },
    {
      "cell_type": "code",
      "metadata": {
        "id": "WY9hysPScYeS"
      },
      "source": [
        "(trainingData, testData) = countVectorizer_feateures.randomSplit([0.8, 0.2])"
      ],
      "execution_count": null,
      "outputs": []
    },
    {
      "cell_type": "code",
      "metadata": {
        "id": "VyFCjFhTcYeS"
      },
      "source": [
        "nb = NaiveBayes(modelType=\"multinomial\",labelCol=\"SentimentIndex\", featuresCol=\"features\")\n",
        "nbModel = nb.fit(trainingData)\n",
        "nb_predictions = nbModel.transform(testData)"
      ],
      "execution_count": null,
      "outputs": []
    },
    {
      "cell_type": "code",
      "metadata": {
        "id": "3N6AjSpocYeT",
        "outputId": "7a2d5133-93c6-491b-e0cf-27e53225b1a2"
      },
      "source": [
        "nb_predictions.select(\"prediction\", \"SentimentIndex\", \"features\").show(30)"
      ],
      "execution_count": null,
      "outputs": [
        {
          "name": "stdout",
          "output_type": "stream",
          "text": [
            "+----------+--------------+--------------------+\n",
            "|prediction|SentimentIndex|            features|\n",
            "+----------+--------------+--------------------+\n",
            "|       1.0|           1.0|(41541,[18,68,94,...|\n",
            "|       3.0|           0.0|(41541,[19,72,111...|\n",
            "|       1.0|           4.0|(41541,[8,16,21,3...|\n",
            "|       4.0|           0.0|(41541,[54,153,39...|\n",
            "|       0.0|           2.0|(41541,[3,53,54,5...|\n",
            "|       3.0|           3.0|(41541,[8,21,26,2...|\n",
            "|       4.0|           1.0|(41541,[68,236,59...|\n",
            "|       0.0|           3.0|(41541,[3,4,6,19,...|\n",
            "|       0.0|           3.0|(41541,[11,13,15,...|\n",
            "|       0.0|           4.0|(41541,[10,12,21,...|\n",
            "|       0.0|           2.0|(41541,[6,95,118,...|\n",
            "|       0.0|           1.0|(41541,[3,4,8,11,...|\n",
            "|       4.0|           4.0|(41541,[2,10,31,7...|\n",
            "|       1.0|           4.0|(41541,[5,11,22,4...|\n",
            "|       1.0|           1.0|(41541,[7,9,279,2...|\n",
            "|       1.0|           0.0|(41541,[5,36,40,6...|\n",
            "|       0.0|           0.0|(41541,[16,17,150...|\n",
            "|       0.0|           0.0|(41541,[3,4,10,12...|\n",
            "|       1.0|           3.0|(41541,[8,22,24,6...|\n",
            "|       0.0|           0.0|(41541,[22,50,106...|\n",
            "|       0.0|           0.0|(41541,[3,4,7,9,3...|\n",
            "|       4.0|           4.0|(41541,[3,4,8,10,...|\n",
            "|       0.0|           1.0|(41541,[10,73,78,...|\n",
            "|       1.0|           1.0|(41541,[22,100,14...|\n",
            "|       3.0|           0.0|(41541,[2,5,11,17...|\n",
            "|       3.0|           0.0|(41541,[57,104,17...|\n",
            "|       0.0|         272.0|(41541,[6,19],[1....|\n",
            "|       1.0|           2.0|(41541,[54,64,89,...|\n",
            "|       0.0|           1.0|(41541,[6,17,21,5...|\n",
            "|       1.0|           1.0|(41541,[78,152,38...|\n",
            "+----------+--------------+--------------------+\n",
            "only showing top 30 rows\n",
            "\n"
          ]
        }
      ]
    },
    {
      "cell_type": "code",
      "metadata": {
        "id": "Os6OVX3qcYeU",
        "outputId": "df134a06-87ec-4b29-e1ce-8355ecfcea79"
      },
      "source": [
        "evaluator = MulticlassClassificationEvaluator(labelCol=\"SentimentIndex\", predictionCol=\"prediction\", metricName=\"accuracy\")\n",
        "nb_accuracy = evaluator.evaluate(nb_predictions)\n",
        "print(\"Accuracy of NaiveBayes is = %g\"% (nb_accuracy))\n",
        "print(\"Test Error of NaiveBayes = %g \" % (1.0 - nb_accuracy))"
      ],
      "execution_count": null,
      "outputs": [
        {
          "name": "stdout",
          "output_type": "stream",
          "text": [
            "Accuracy of NaiveBayes is = 0.444051\n",
            "Test Error of NaiveBayes = 0.555949 \n"
          ]
        }
      ]
    },
    {
      "cell_type": "markdown",
      "metadata": {
        "id": "LiIzgcBXcYeV"
      },
      "source": [
        "### The accuracy comes out to be 44% and test error as 55%"
      ]
    },
    {
      "cell_type": "markdown",
      "metadata": {
        "id": "9TAIufxadIFG"
      },
      "source": [
        "##**THANKS** "
      ]
    }
  ]
}