{
  "nbformat": 4,
  "nbformat_minor": 0,
  "metadata": {
    "kernelspec": {
      "display_name": "Python 3",
      "language": "python",
      "name": "python3"
    },
    "language_info": {
      "codemirror_mode": {
        "name": "ipython",
        "version": 3
      },
      "file_extension": ".py",
      "mimetype": "text/x-python",
      "name": "python",
      "nbconvert_exporter": "python",
      "pygments_lexer": "ipython3",
      "version": "3.7.3"
    },
    "colab": {
      "name": "015017_P2_ins.ipynb",
      "provenance": []
    }
  },
  "cells": [
    {
      "cell_type": "markdown",
      "metadata": {
        "id": "BmdDgjZ0RUAK"
      },
      "source": [
        "# BDDA PROJECT 2"
      ]
    },
    {
      "cell_type": "markdown",
      "metadata": {
        "id": "b1PmQ4PZRUAM"
      },
      "source": [
        "## PART (1) INTRODUCTION"
      ]
    },
    {
      "cell_type": "markdown",
      "metadata": {
        "id": "yNIROcOpRUAN"
      },
      "source": [
        "## BDDA PROJECT 1\n",
        "### UMANG DHAR DWIVEDI 015017\n",
        " IN THIS PYTHON FILE WE WILL TRY TO UNDERSTAND DATA AND PERFORM VARIOS ACTIONS UNDER CERTAIN PARTS \n",
        " THIS PROJECT CONTAINS CSV FILE NAMED INSURANCE.CSV WHICH FURTHER HAS COULMNS HEADS AS \n",
        " --AGE \n",
        " --SEX\n",
        " --BMI\n",
        " --CHILDREN\n",
        " --SMOKER\n",
        " --REGION\n",
        " --CHARGES\n",
        "\n",
        "The following coding has been done on Virtual Machine "
      ]
    },
    {
      "cell_type": "markdown",
      "metadata": {
        "id": "lSdol-lrRUAO"
      },
      "source": [
        "1. START HADOOP USING allstart.sh\n",
        "2. START SPARK USING pysparknb\n",
        "3. Copy the data using hadoop fs -copyFromLocal filename"
      ]
    },
    {
      "cell_type": "code",
      "metadata": {
        "id": "KWpUHvN1RUAP"
      },
      "source": [
        "from pyspark.sql import SparkSession"
      ],
      "execution_count": null,
      "outputs": []
    },
    {
      "cell_type": "code",
      "metadata": {
        "id": "BiilBtaARUAQ"
      },
      "source": [
        "spark=SparkSession.builder.appName('Basics').getOrCreate()"
      ],
      "execution_count": null,
      "outputs": []
    },
    {
      "cell_type": "code",
      "metadata": {
        "id": "uGOuTQIGRUAR"
      },
      "source": [
        "df=spark.read.csv('insurance.csv',header=True,inferSchema=True) "
      ],
      "execution_count": null,
      "outputs": []
    },
    {
      "cell_type": "markdown",
      "metadata": {
        "id": "yKgub91_RUAS"
      },
      "source": [
        "#### inferschema helps spark in understanding data as spark only reads data in form of string"
      ]
    },
    {
      "cell_type": "markdown",
      "metadata": {
        "id": "R5bNvkGCRUAT"
      },
      "source": [
        "## PART 2 Data Understanding/Exploration"
      ]
    },
    {
      "cell_type": "code",
      "metadata": {
        "id": "bSOPXVzaRUAT",
        "outputId": "29eea647-85d0-4e90-af54-eff3cd701408"
      },
      "source": [
        "df.show()"
      ],
      "execution_count": null,
      "outputs": [
        {
          "name": "stdout",
          "output_type": "stream",
          "text": [
            "+---+------+------+--------+------+---------+-----------+\n",
            "|age|   sex|   bmi|children|smoker|   region|    charges|\n",
            "+---+------+------+--------+------+---------+-----------+\n",
            "| 19|female|  27.9|       0|   yes|southwest|  16884.924|\n",
            "| 18|  male| 33.77|       1|    no|southeast|  1725.5523|\n",
            "| 28|  male|  33.0|       3|    no|southeast|   4449.462|\n",
            "| 33|  male|22.705|       0|    no|northwest|21984.47061|\n",
            "| 32|  male| 28.88|       0|    no|northwest|  3866.8552|\n",
            "| 31|female| 25.74|       0|    no|southeast|  3756.6216|\n",
            "| 46|female| 33.44|       1|    no|southeast|  8240.5896|\n",
            "| 37|female| 27.74|       3|    no|northwest|  7281.5056|\n",
            "| 37|  male| 29.83|       2|    no|northeast|  6406.4107|\n",
            "| 60|female| 25.84|       0|    no|northwest|28923.13692|\n",
            "| 25|  male| 26.22|       0|    no|northeast|  2721.3208|\n",
            "| 62|female| 26.29|       0|   yes|southeast| 27808.7251|\n",
            "| 23|  male|  34.4|       0|    no|southwest|   1826.843|\n",
            "| 56|female| 39.82|       0|    no|southeast| 11090.7178|\n",
            "| 27|  male| 42.13|       0|   yes|southeast| 39611.7577|\n",
            "| 19|  male|  24.6|       1|    no|southwest|   1837.237|\n",
            "| 52|female| 30.78|       1|    no|northeast| 10797.3362|\n",
            "| 23|  male|23.845|       0|    no|northeast| 2395.17155|\n",
            "| 56|  male|  40.3|       0|    no|southwest|  10602.385|\n",
            "| 30|  male|  35.3|       0|   yes|southwest|  36837.467|\n",
            "+---+------+------+--------+------+---------+-----------+\n",
            "only showing top 20 rows\n",
            "\n"
          ]
        }
      ]
    },
    {
      "cell_type": "code",
      "metadata": {
        "id": "5Uj0B0I-RUAX",
        "outputId": "773e3ff5-e998-45a4-eaeb-ab2841d98ee0"
      },
      "source": [
        "df.count()"
      ],
      "execution_count": null,
      "outputs": [
        {
          "data": {
            "text/plain": [
              "1338"
            ]
          },
          "execution_count": 5,
          "metadata": {},
          "output_type": "execute_result"
        }
      ]
    },
    {
      "cell_type": "code",
      "metadata": {
        "id": "vDZS-Bo3RUAY",
        "outputId": "9d3ec69f-6bec-4337-fc54-dcb41665479e"
      },
      "source": [
        "df.columns #to get the header(title of the coulmns)"
      ],
      "execution_count": null,
      "outputs": [
        {
          "data": {
            "text/plain": [
              "['age', 'sex', 'bmi', 'children', 'smoker', 'region', 'charges']"
            ]
          },
          "execution_count": 6,
          "metadata": {},
          "output_type": "execute_result"
        }
      ]
    },
    {
      "cell_type": "code",
      "metadata": {
        "id": "3Z-5Wqx3RUAf",
        "outputId": "692f9060-feae-40f6-b22b-239f2a5bf567"
      },
      "source": [
        "df.printSchema() #to understand the coulmns attributes,their type if null values permited or not"
      ],
      "execution_count": null,
      "outputs": [
        {
          "name": "stdout",
          "output_type": "stream",
          "text": [
            "root\n",
            " |-- age: integer (nullable = true)\n",
            " |-- sex: string (nullable = true)\n",
            " |-- bmi: double (nullable = true)\n",
            " |-- children: integer (nullable = true)\n",
            " |-- smoker: string (nullable = true)\n",
            " |-- region: string (nullable = true)\n",
            " |-- charges: double (nullable = true)\n",
            "\n"
          ]
        }
      ]
    },
    {
      "cell_type": "code",
      "metadata": {
        "id": "xZ_83HkORUAh",
        "outputId": "c89c91db-52ea-486d-cdd4-dc0e473e745d"
      },
      "source": [
        "df.describe().show() ## used to see the statistical values of the data"
      ],
      "execution_count": null,
      "outputs": [
        {
          "name": "stdout",
          "output_type": "stream",
          "text": [
            "+-------+------------------+------+------------------+-----------------+------+---------+------------------+\n",
            "|summary|               age|   sex|               bmi|         children|smoker|   region|           charges|\n",
            "+-------+------------------+------+------------------+-----------------+------+---------+------------------+\n",
            "|  count|              1338|  1338|              1338|             1338|  1338|     1338|              1338|\n",
            "|   mean| 39.20702541106129|  null|30.663396860986538|  1.0949177877429|  null|     null|13270.422265141257|\n",
            "| stddev|14.049960379216147|  null| 6.098186911679012|1.205492739781914|  null|     null|12110.011236693992|\n",
            "|    min|                18|female|             15.96|                0|    no|northeast|         1121.8739|\n",
            "|    max|                64|  male|             53.13|                5|   yes|southwest|       63770.42801|\n",
            "+-------+------------------+------+------------------+-----------------+------+---------+------------------+\n",
            "\n"
          ]
        }
      ]
    },
    {
      "cell_type": "markdown",
      "metadata": {
        "id": "_TYVv1FKRUAi"
      },
      "source": [
        "## PART (3) Grabbing Data {reading only data part that we want} "
      ]
    },
    {
      "cell_type": "code",
      "metadata": {
        "id": "1KO_-Fx6RUAj",
        "outputId": "7ba6d99e-8656-432c-94ca-3349a84966cd"
      },
      "source": [
        "df['bmi'] ##lets understand bmi coulmn\n"
      ],
      "execution_count": null,
      "outputs": [
        {
          "data": {
            "text/plain": [
              "Column<b'bmi'>"
            ]
          },
          "execution_count": 9,
          "metadata": {},
          "output_type": "execute_result"
        }
      ]
    },
    {
      "cell_type": "code",
      "metadata": {
        "id": "m-Ij2fyVRUAk",
        "outputId": "82669b6b-18f4-412e-88c6-f1cc0af6eae9"
      },
      "source": [
        "type(df['bmi']) ##rdd helps in converting data in form of rows and coulmns"
      ],
      "execution_count": null,
      "outputs": [
        {
          "data": {
            "text/plain": [
              "pyspark.sql.column.Column"
            ]
          },
          "execution_count": 10,
          "metadata": {},
          "output_type": "execute_result"
        }
      ]
    },
    {
      "cell_type": "code",
      "metadata": {
        "id": "lyL_weQHRUAk",
        "outputId": "4a9d49d8-71e8-4d40-9177-77fdfdd80df7"
      },
      "source": [
        "df.select('bmi').show()"
      ],
      "execution_count": null,
      "outputs": [
        {
          "name": "stdout",
          "output_type": "stream",
          "text": [
            "+------+\n",
            "|   bmi|\n",
            "+------+\n",
            "|  27.9|\n",
            "| 33.77|\n",
            "|  33.0|\n",
            "|22.705|\n",
            "| 28.88|\n",
            "| 25.74|\n",
            "| 33.44|\n",
            "| 27.74|\n",
            "| 29.83|\n",
            "| 25.84|\n",
            "| 26.22|\n",
            "| 26.29|\n",
            "|  34.4|\n",
            "| 39.82|\n",
            "| 42.13|\n",
            "|  24.6|\n",
            "| 30.78|\n",
            "|23.845|\n",
            "|  40.3|\n",
            "|  35.3|\n",
            "+------+\n",
            "only showing top 20 rows\n",
            "\n"
          ]
        }
      ]
    },
    {
      "cell_type": "code",
      "metadata": {
        "id": "CAEVfHr6RUAl",
        "outputId": "f0910930-e262-4ec3-846b-e56ab0df4cba"
      },
      "source": [
        "type(df.select('bmi')) "
      ],
      "execution_count": null,
      "outputs": [
        {
          "data": {
            "text/plain": [
              "pyspark.sql.dataframe.DataFrame"
            ]
          },
          "execution_count": 12,
          "metadata": {},
          "output_type": "execute_result"
        }
      ]
    },
    {
      "cell_type": "code",
      "metadata": {
        "id": "88f4LI9qRUAm",
        "outputId": "844084ef-27da-4d9a-9f97-7c2383908fb3"
      },
      "source": [
        "df.head(2) ##spark stores data in form of rows and coulmns not in form of dataframe"
      ],
      "execution_count": null,
      "outputs": [
        {
          "data": {
            "text/plain": [
              "[Row(age=19, sex='female', bmi=27.9, children=0, smoker='yes', region='southwest', charges=16884.924),\n",
              " Row(age=18, sex='male', bmi=33.77, children=1, smoker='no', region='southeast', charges=1725.5523)]"
            ]
          },
          "execution_count": 13,
          "metadata": {},
          "output_type": "execute_result"
        }
      ]
    },
    {
      "cell_type": "code",
      "metadata": {
        "id": "oSHWskmRRUAn",
        "outputId": "086ce764-acef-4904-b9c2-ca868c921155"
      },
      "source": [
        "df.head(30)[4] ## 30 used to take the number of rows and in that we want to view value of row that is numbered 4"
      ],
      "execution_count": null,
      "outputs": [
        {
          "data": {
            "text/plain": [
              "Row(age=32, sex='male', bmi=28.88, children=0, smoker='no', region='northwest', charges=3866.8552)"
            ]
          },
          "execution_count": 14,
          "metadata": {},
          "output_type": "execute_result"
        }
      ]
    },
    {
      "cell_type": "code",
      "metadata": {
        "id": "l7mxYp8zRUAo",
        "outputId": "b2e3cb51-6e09-40da-f50d-4dae1f8c8caa"
      },
      "source": [
        "df.select(['sex','bmi','charges']) ##now lets see the values if we only need 3 coulmn"
      ],
      "execution_count": null,
      "outputs": [
        {
          "data": {
            "text/plain": [
              "DataFrame[sex: string, bmi: double, charges: double]"
            ]
          },
          "execution_count": 15,
          "metadata": {},
          "output_type": "execute_result"
        }
      ]
    },
    {
      "cell_type": "code",
      "metadata": {
        "id": "p1vF1nzpRUAp",
        "outputId": "2ca294f0-5b17-48ca-f183-01e37a49398e"
      },
      "source": [
        "df.select(['sex','bmi','charges']).show()"
      ],
      "execution_count": null,
      "outputs": [
        {
          "name": "stdout",
          "output_type": "stream",
          "text": [
            "+------+------+-----------+\n",
            "|   sex|   bmi|    charges|\n",
            "+------+------+-----------+\n",
            "|female|  27.9|  16884.924|\n",
            "|  male| 33.77|  1725.5523|\n",
            "|  male|  33.0|   4449.462|\n",
            "|  male|22.705|21984.47061|\n",
            "|  male| 28.88|  3866.8552|\n",
            "|female| 25.74|  3756.6216|\n",
            "|female| 33.44|  8240.5896|\n",
            "|female| 27.74|  7281.5056|\n",
            "|  male| 29.83|  6406.4107|\n",
            "|female| 25.84|28923.13692|\n",
            "|  male| 26.22|  2721.3208|\n",
            "|female| 26.29| 27808.7251|\n",
            "|  male|  34.4|   1826.843|\n",
            "|female| 39.82| 11090.7178|\n",
            "|  male| 42.13| 39611.7577|\n",
            "|  male|  24.6|   1837.237|\n",
            "|female| 30.78| 10797.3362|\n",
            "|  male|23.845| 2395.17155|\n",
            "|  male|  40.3|  10602.385|\n",
            "|  male|  35.3|  36837.467|\n",
            "+------+------+-----------+\n",
            "only showing top 20 rows\n",
            "\n"
          ]
        }
      ]
    },
    {
      "cell_type": "code",
      "metadata": {
        "id": "6NHHaAV-RUAp",
        "outputId": "e51552a3-4817-4908-af30-9f9f250acc00"
      },
      "source": [
        " os =df.filter(\"bmi<18.5\").show(30) ##lets see if someone has bmi index less than 18.5 which is considered underweight "
      ],
      "execution_count": null,
      "outputs": [
        {
          "name": "stdout",
          "output_type": "stream",
          "text": [
            "+---+------+------+--------+------+---------+-----------+\n",
            "|age|   sex|   bmi|children|smoker|   region|    charges|\n",
            "+---+------+------+--------+------+---------+-----------+\n",
            "| 23|  male|17.385|       1|    no|northwest| 2775.19215|\n",
            "| 32|female|17.765|       2|   yes|northwest| 32734.1863|\n",
            "| 18|  male| 15.96|       0|    no|northeast|  1694.7964|\n",
            "| 51|female| 18.05|       0|    no|northwest|  9644.2525|\n",
            "| 19|female|  17.8|       0|    no|southwest|   1727.785|\n",
            "| 18|  male| 17.29|       2|   yes|northeast| 12829.4551|\n",
            "| 27|female|17.955|       2|   yes|northeast|15006.57945|\n",
            "| 19|  male| 17.48|       0|    no|northwest|  1621.3402|\n",
            "| 26|female|17.195|       2|   yes|northeast|14455.64405|\n",
            "| 21|female|16.815|       1|    no|northeast| 3167.45585|\n",
            "| 21|female|  17.4|       1|    no|southwest|   2585.269|\n",
            "| 26|  male| 17.67|       0|    no|northwest|  2680.9493|\n",
            "| 57|  male|18.335|       0|    no|northeast|11534.87265|\n",
            "| 37|female| 17.29|       2|    no|northeast|  6877.9801|\n",
            "| 60|female|18.335|       0|    no|northeast|13204.28565|\n",
            "| 39|female|  18.3|       5|   yes|southwest|   19023.26|\n",
            "| 52|female|18.335|       0|    no|northwest| 9991.03765|\n",
            "| 35|  male| 17.86|       1|    no|northwest|  5116.5004|\n",
            "| 38|  male|16.815|       2|    no|northeast| 6640.54485|\n",
            "| 28|female| 17.29|       0|    no|northeast|  3732.6251|\n",
            "+---+------+------+--------+------+---------+-----------+\n",
            "\n"
          ]
        }
      ]
    },
    {
      "cell_type": "markdown",
      "metadata": {
        "id": "7-qoIJRMRUAq"
      },
      "source": [
        "We find that 20 people are overweight"
      ]
    },
    {
      "cell_type": "code",
      "metadata": {
        "id": "oF7-GeaJRUAq",
        "outputId": "68aff054-dc94-47cd-8b8b-f7eb0032c3a0"
      },
      "source": [
        "df.filter((df['bmi']<18.5)&(df['sex']>'female')).show() "
      ],
      "execution_count": null,
      "outputs": [
        {
          "name": "stdout",
          "output_type": "stream",
          "text": [
            "+---+----+------+--------+------+---------+-----------+\n",
            "|age| sex|   bmi|children|smoker|   region|    charges|\n",
            "+---+----+------+--------+------+---------+-----------+\n",
            "| 23|male|17.385|       1|    no|northwest| 2775.19215|\n",
            "| 18|male| 15.96|       0|    no|northeast|  1694.7964|\n",
            "| 18|male| 17.29|       2|   yes|northeast| 12829.4551|\n",
            "| 19|male| 17.48|       0|    no|northwest|  1621.3402|\n",
            "| 26|male| 17.67|       0|    no|northwest|  2680.9493|\n",
            "| 57|male|18.335|       0|    no|northeast|11534.87265|\n",
            "| 35|male| 17.86|       1|    no|northwest|  5116.5004|\n",
            "| 38|male|16.815|       2|    no|northeast| 6640.54485|\n",
            "+---+----+------+--------+------+---------+-----------+\n",
            "\n"
          ]
        }
      ]
    },
    {
      "cell_type": "markdown",
      "metadata": {
        "id": "DXtzd40JRUAr"
      },
      "source": [
        "Interesting point  that  males who are underweight are from  north region"
      ]
    },
    {
      "cell_type": "code",
      "metadata": {
        "id": "pf0rBooNRUAs",
        "outputId": "be54a116-97bc-47a7-e372-9e8a27377bdc"
      },
      "source": [
        "df.filter((df['bmi']<18.5)&(df['age']>25)).show() "
      ],
      "execution_count": null,
      "outputs": [
        {
          "name": "stdout",
          "output_type": "stream",
          "text": [
            "+---+------+------+--------+------+---------+-----------+\n",
            "|age|   sex|   bmi|children|smoker|   region|    charges|\n",
            "+---+------+------+--------+------+---------+-----------+\n",
            "| 32|female|17.765|       2|   yes|northwest| 32734.1863|\n",
            "| 51|female| 18.05|       0|    no|northwest|  9644.2525|\n",
            "| 27|female|17.955|       2|   yes|northeast|15006.57945|\n",
            "| 26|female|17.195|       2|   yes|northeast|14455.64405|\n",
            "| 26|  male| 17.67|       0|    no|northwest|  2680.9493|\n",
            "| 57|  male|18.335|       0|    no|northeast|11534.87265|\n",
            "| 37|female| 17.29|       2|    no|northeast|  6877.9801|\n",
            "| 60|female|18.335|       0|    no|northeast|13204.28565|\n",
            "| 39|female|  18.3|       5|   yes|southwest|   19023.26|\n",
            "| 52|female|18.335|       0|    no|northwest| 9991.03765|\n",
            "| 35|  male| 17.86|       1|    no|northwest|  5116.5004|\n",
            "| 38|  male|16.815|       2|    no|northeast| 6640.54485|\n",
            "| 28|female| 17.29|       0|    no|northeast|  3732.6251|\n",
            "+---+------+------+--------+------+---------+-----------+\n",
            "\n"
          ]
        }
      ]
    },
    {
      "cell_type": "markdown",
      "metadata": {
        "id": "C8YKbvNSRUAs"
      },
      "source": [
        "#### here we check the number of people who are under weight and below 25 years of age"
      ]
    },
    {
      "cell_type": "code",
      "metadata": {
        "id": "B_Ikn0lIRUAt",
        "outputId": "fb5c838b-d1ee-4ef2-be5c-7bd0968c838d"
      },
      "source": [
        "df.filter(\"bmi<18.5\").select(['smoker']).show() ##if we only want to see how many people who are underweight are smokers"
      ],
      "execution_count": null,
      "outputs": [
        {
          "name": "stdout",
          "output_type": "stream",
          "text": [
            "+------+\n",
            "|smoker|\n",
            "+------+\n",
            "|    no|\n",
            "|   yes|\n",
            "|    no|\n",
            "|    no|\n",
            "|    no|\n",
            "|   yes|\n",
            "|   yes|\n",
            "|    no|\n",
            "|   yes|\n",
            "|    no|\n",
            "|    no|\n",
            "|    no|\n",
            "|    no|\n",
            "|    no|\n",
            "|    no|\n",
            "|   yes|\n",
            "|    no|\n",
            "|    no|\n",
            "|    no|\n",
            "|    no|\n",
            "+------+\n",
            "\n"
          ]
        }
      ]
    },
    {
      "cell_type": "code",
      "metadata": {
        "id": "3HC_i2ljRUAu",
        "outputId": "cfe6db98-6532-48d4-960e-ac0185557ba2"
      },
      "source": [
        "df.filter(\"bmi>29\").show(30)   ##lets see how many are overweight"
      ],
      "execution_count": null,
      "outputs": [
        {
          "name": "stdout",
          "output_type": "stream",
          "text": [
            "+---+------+------+--------+------+---------+-----------+\n",
            "|age|   sex|   bmi|children|smoker|   region|    charges|\n",
            "+---+------+------+--------+------+---------+-----------+\n",
            "| 18|  male| 33.77|       1|    no|southeast|  1725.5523|\n",
            "| 28|  male|  33.0|       3|    no|southeast|   4449.462|\n",
            "| 46|female| 33.44|       1|    no|southeast|  8240.5896|\n",
            "| 37|  male| 29.83|       2|    no|northeast|  6406.4107|\n",
            "| 23|  male|  34.4|       0|    no|southwest|   1826.843|\n",
            "| 56|female| 39.82|       0|    no|southeast| 11090.7178|\n",
            "| 27|  male| 42.13|       0|   yes|southeast| 39611.7577|\n",
            "| 52|female| 30.78|       1|    no|northeast| 10797.3362|\n",
            "| 56|  male|  40.3|       0|    no|southwest|  10602.385|\n",
            "| 30|  male|  35.3|       0|   yes|southwest|  36837.467|\n",
            "| 60|female|36.005|       0|    no|northeast|13228.84695|\n",
            "| 30|female|  32.4|       1|    no|southwest|   4149.736|\n",
            "| 18|  male|  34.1|       0|    no|southeast|   1137.011|\n",
            "| 34|female| 31.92|       1|   yes|northeast| 37701.8768|\n",
            "| 55|female|32.775|       2|    no|northwest|12268.63225|\n",
            "| 31|  male|  36.3|       2|   yes|southwest|    38711.0|\n",
            "| 22|  male|  35.6|       0|   yes|southwest|  35585.576|\n",
            "| 28|  male|  36.4|       1|   yes|southwest|51194.55914|\n",
            "| 62|female|32.965|       3|    no|northwest|15612.19335|\n",
            "| 35|  male| 36.67|       1|   yes|northeast| 39774.2763|\n",
            "| 60|  male|  39.9|       0|   yes|southwest|  48173.361|\n",
            "| 31|female| 36.63|       2|    no|southeast|  4949.7587|\n",
            "| 37|female|  30.8|       2|    no|southeast|   6313.759|\n",
            "| 38|  male| 37.05|       1|    no|northeast|  6079.6715|\n",
            "| 55|  male|  37.3|       0|    no|southwest|20630.28351|\n",
            "| 18|female|38.665|       2|    no|northeast| 3393.35635|\n",
            "| 28|female| 34.77|       0|    no|northwest|  3556.9223|\n",
            "| 36|  male|  35.2|       1|   yes|southeast|  38709.176|\n",
            "| 18|female|35.625|       0|    no|northeast| 2211.13075|\n",
            "| 21|female| 33.63|       2|    no|northwest|  3579.8287|\n",
            "+---+------+------+--------+------+---------+-----------+\n",
            "only showing top 30 rows\n",
            "\n"
          ]
        }
      ]
    },
    {
      "cell_type": "code",
      "metadata": {
        "id": "N9PEpA0kRUAv"
      },
      "source": [
        "ow=df.filter(df['bmi']>29).collect()"
      ],
      "execution_count": null,
      "outputs": []
    },
    {
      "cell_type": "code",
      "metadata": {
        "id": "n9VzLBbDRUAv",
        "outputId": "1cb2f7d3-3b09-4f59-e18f-b2be7a0c1111"
      },
      "source": [
        "len(ow)"
      ],
      "execution_count": null,
      "outputs": [
        {
          "data": {
            "text/plain": [
              "778"
            ]
          },
          "execution_count": 23,
          "metadata": {},
          "output_type": "execute_result"
        }
      ]
    },
    {
      "cell_type": "markdown",
      "metadata": {
        "id": "dOOj2ZmjRUAw"
      },
      "source": [
        "#### 778 people are overweight"
      ]
    },
    {
      "cell_type": "code",
      "metadata": {
        "id": "5pE22XQKRUAx"
      },
      "source": [
        "ow2 =df.filter((df['bmi']>29)&(df['age']<25)).collect()"
      ],
      "execution_count": null,
      "outputs": []
    },
    {
      "cell_type": "code",
      "metadata": {
        "id": "0DNLbbAYRUAy",
        "outputId": "a632e529-850a-452c-9519-50f052fe0415"
      },
      "source": [
        "len(ow2)"
      ],
      "execution_count": null,
      "outputs": [
        {
          "data": {
            "text/plain": [
              "151"
            ]
          },
          "execution_count": 25,
          "metadata": {},
          "output_type": "execute_result"
        }
      ]
    },
    {
      "cell_type": "markdown",
      "metadata": {
        "id": "c-mGfgBCRUAy"
      },
      "source": [
        "#### 151 people who are overweight are less than 25 "
      ]
    },
    {
      "cell_type": "code",
      "metadata": {
        "id": "od62B6YORUAz"
      },
      "source": [
        "chi=df.filter((df['children']==0)).collect()"
      ],
      "execution_count": null,
      "outputs": []
    },
    {
      "cell_type": "code",
      "metadata": {
        "id": "l-IgF1U-RUAz",
        "outputId": "a2e00bb9-5b5d-41b5-af08-776a50e83482"
      },
      "source": [
        "len(chi)"
      ],
      "execution_count": null,
      "outputs": [
        {
          "data": {
            "text/plain": [
              "574"
            ]
          },
          "execution_count": 27,
          "metadata": {},
          "output_type": "execute_result"
        }
      ]
    },
    {
      "cell_type": "markdown",
      "metadata": {
        "id": "5-PuI_CiRUA0"
      },
      "source": [
        "#### 574  people have no children covered in insurance"
      ]
    },
    {
      "cell_type": "code",
      "metadata": {
        "id": "TPpYejj-RUA1"
      },
      "source": [
        "chi1 =df.filter((df['children']==1)).collect()"
      ],
      "execution_count": null,
      "outputs": []
    },
    {
      "cell_type": "code",
      "metadata": {
        "id": "vdN4W6IIRUA1",
        "outputId": "79d84582-76d1-4064-94f0-1cfdabb5cdd2"
      },
      "source": [
        "len(chi1)"
      ],
      "execution_count": null,
      "outputs": [
        {
          "data": {
            "text/plain": [
              "324"
            ]
          },
          "execution_count": 29,
          "metadata": {},
          "output_type": "execute_result"
        }
      ]
    },
    {
      "cell_type": "markdown",
      "metadata": {
        "id": "r10huiqZRUA2"
      },
      "source": [
        "#### 324 people have 1 child covered in insurance"
      ]
    },
    {
      "cell_type": "code",
      "metadata": {
        "id": "LBdUWURJRUA2"
      },
      "source": [
        "chiov =df.filter((df['bmi']>29)& ~(df['children']==0)).collect()"
      ],
      "execution_count": null,
      "outputs": []
    },
    {
      "cell_type": "code",
      "metadata": {
        "id": "VdKj1k2pRUA3",
        "outputId": "4358db94-d5c1-42f1-8034-9bb5759f4c64"
      },
      "source": [
        "len(chiov)"
      ],
      "execution_count": null,
      "outputs": [
        {
          "data": {
            "text/plain": [
              "449"
            ]
          },
          "execution_count": 31,
          "metadata": {},
          "output_type": "execute_result"
        }
      ]
    },
    {
      "cell_type": "markdown",
      "metadata": {
        "id": "eeiGl9MLRUA4"
      },
      "source": [
        "#### 449 people who are overweight have no child covered in insurance"
      ]
    },
    {
      "cell_type": "markdown",
      "metadata": {
        "id": "mHKsKRzoRUA4"
      },
      "source": [
        "##   PART (4) Group by Aggrigation"
      ]
    },
    {
      "cell_type": "code",
      "metadata": {
        "id": "7uYA7fvBRUA5",
        "outputId": "b8ac9e5c-1bf4-4835-c079-320d250eeceb"
      },
      "source": [
        "df.show()"
      ],
      "execution_count": null,
      "outputs": [
        {
          "name": "stdout",
          "output_type": "stream",
          "text": [
            "+---+------+------+--------+------+---------+-----------+\n",
            "|age|   sex|   bmi|children|smoker|   region|    charges|\n",
            "+---+------+------+--------+------+---------+-----------+\n",
            "| 19|female|  27.9|       0|   yes|southwest|  16884.924|\n",
            "| 18|  male| 33.77|       1|    no|southeast|  1725.5523|\n",
            "| 28|  male|  33.0|       3|    no|southeast|   4449.462|\n",
            "| 33|  male|22.705|       0|    no|northwest|21984.47061|\n",
            "| 32|  male| 28.88|       0|    no|northwest|  3866.8552|\n",
            "| 31|female| 25.74|       0|    no|southeast|  3756.6216|\n",
            "| 46|female| 33.44|       1|    no|southeast|  8240.5896|\n",
            "| 37|female| 27.74|       3|    no|northwest|  7281.5056|\n",
            "| 37|  male| 29.83|       2|    no|northeast|  6406.4107|\n",
            "| 60|female| 25.84|       0|    no|northwest|28923.13692|\n",
            "| 25|  male| 26.22|       0|    no|northeast|  2721.3208|\n",
            "| 62|female| 26.29|       0|   yes|southeast| 27808.7251|\n",
            "| 23|  male|  34.4|       0|    no|southwest|   1826.843|\n",
            "| 56|female| 39.82|       0|    no|southeast| 11090.7178|\n",
            "| 27|  male| 42.13|       0|   yes|southeast| 39611.7577|\n",
            "| 19|  male|  24.6|       1|    no|southwest|   1837.237|\n",
            "| 52|female| 30.78|       1|    no|northeast| 10797.3362|\n",
            "| 23|  male|23.845|       0|    no|northeast| 2395.17155|\n",
            "| 56|  male|  40.3|       0|    no|southwest|  10602.385|\n",
            "| 30|  male|  35.3|       0|   yes|southwest|  36837.467|\n",
            "+---+------+------+--------+------+---------+-----------+\n",
            "only showing top 20 rows\n",
            "\n"
          ]
        }
      ]
    },
    {
      "cell_type": "code",
      "metadata": {
        "id": "Tm0dqyakRUA6",
        "outputId": "ff5ea7a7-d7d9-45a4-d3bd-a7d8c7a1174d"
      },
      "source": [
        "df.groupBy(\"region\")"
      ],
      "execution_count": null,
      "outputs": [
        {
          "data": {
            "text/plain": [
              "<pyspark.sql.group.GroupedData at 0x7f1d8c4b7ac8>"
            ]
          },
          "execution_count": 33,
          "metadata": {},
          "output_type": "execute_result"
        }
      ]
    },
    {
      "cell_type": "code",
      "metadata": {
        "id": "ppvF3Tt4RUA6",
        "outputId": "d54603ad-7725-466a-89ac-8f5bef3262ac"
      },
      "source": [
        "df.groupBy(\"region\").count().show() ## to see how population is distributed in various regions"
      ],
      "execution_count": null,
      "outputs": [
        {
          "name": "stdout",
          "output_type": "stream",
          "text": [
            "+---------+-----+\n",
            "|   region|count|\n",
            "+---------+-----+\n",
            "|northwest|  325|\n",
            "|southeast|  364|\n",
            "|northeast|  324|\n",
            "|southwest|  325|\n",
            "+---------+-----+\n",
            "\n"
          ]
        }
      ]
    },
    {
      "cell_type": "code",
      "metadata": {
        "id": "XQ7pf7x2RUA7",
        "outputId": "7af5c092-8f3c-4af7-d72f-f746da4c5dc6"
      },
      "source": [
        "df.groupby(\"region\").count().orderBy(\"count\", ascending=True).show()"
      ],
      "execution_count": null,
      "outputs": [
        {
          "name": "stdout",
          "output_type": "stream",
          "text": [
            "+---------+-----+\n",
            "|   region|count|\n",
            "+---------+-----+\n",
            "|northeast|  324|\n",
            "|northwest|  325|\n",
            "|southwest|  325|\n",
            "|southeast|  364|\n",
            "+---------+-----+\n",
            "\n"
          ]
        }
      ]
    },
    {
      "cell_type": "code",
      "metadata": {
        "id": "OihxCutNRUA8",
        "outputId": "6f4c29f7-26cc-417a-c6ef-0f77124b6c28"
      },
      "source": [
        "df.groupby(\"sex\").count().show()\n",
        "df.groupby(\"smoker\").count().show()\n",
        "df.groupby(\"region\").count().show()"
      ],
      "execution_count": null,
      "outputs": [
        {
          "name": "stdout",
          "output_type": "stream",
          "text": [
            "+------+-----+\n",
            "|   sex|count|\n",
            "+------+-----+\n",
            "|female|  662|\n",
            "|  male|  676|\n",
            "+------+-----+\n",
            "\n",
            "+------+-----+\n",
            "|smoker|count|\n",
            "+------+-----+\n",
            "|    no| 1064|\n",
            "|   yes|  274|\n",
            "+------+-----+\n",
            "\n",
            "+---------+-----+\n",
            "|   region|count|\n",
            "+---------+-----+\n",
            "|northwest|  325|\n",
            "|southeast|  364|\n",
            "|northeast|  324|\n",
            "|southwest|  325|\n",
            "+---------+-----+\n",
            "\n"
          ]
        }
      ]
    },
    {
      "cell_type": "markdown",
      "metadata": {
        "id": "Yi51c8G5RUA9"
      },
      "source": [
        "### Now let's see the average/max/min of (age,bmi,children,charges) distributed in regions"
      ]
    },
    {
      "cell_type": "code",
      "metadata": {
        "id": "IX3sugq7RUA-",
        "outputId": "10c583e9-4c02-4abd-db63-0d4362b78341"
      },
      "source": [
        "df.groupBy(\"region\").mean().show()\n",
        "df.groupBy(\"region\").max().show()\n",
        "df.groupBy(\"region\").min().show()\n",
        " "
      ],
      "execution_count": null,
      "outputs": [
        {
          "name": "stdout",
          "output_type": "stream",
          "text": [
            "+---------+-----------------+------------------+------------------+------------------+\n",
            "|   region|         avg(age)|          avg(bmi)|     avg(children)|      avg(charges)|\n",
            "+---------+-----------------+------------------+------------------+------------------+\n",
            "|northwest|39.19692307692308|29.199784615384626|1.1476923076923078|12417.575373969228|\n",
            "|southeast|38.93956043956044| 33.35598901098903|1.0494505494505495|14735.411437609895|\n",
            "|northeast|39.26851851851852| 29.17350308641976|1.0462962962962963|  13406.3845163858|\n",
            "|southwest|39.45538461538462| 30.59661538461538|1.1415384615384616| 12346.93737729231|\n",
            "+---------+-----------------+------------------+------------------+------------------+\n",
            "\n",
            "+---------+--------+--------+-------------+------------+\n",
            "|   region|max(age)|max(bmi)|max(children)|max(charges)|\n",
            "+---------+--------+--------+-------------+------------+\n",
            "|northwest|      64|   42.94|            5| 60021.39897|\n",
            "|southeast|      64|   53.13|            5| 63770.42801|\n",
            "|northeast|      64|   48.07|            5| 58571.07448|\n",
            "|southwest|      64|    47.6|            5| 52590.82939|\n",
            "+---------+--------+--------+-------------+------------+\n",
            "\n",
            "+---------+--------+--------+-------------+------------+\n",
            "|   region|min(age)|min(bmi)|min(children)|min(charges)|\n",
            "+---------+--------+--------+-------------+------------+\n",
            "|northwest|      19|  17.385|            0|   1621.3402|\n",
            "|southeast|      18|    19.8|            0|   1121.8739|\n",
            "|northeast|      18|   15.96|            0|   1694.7964|\n",
            "|southwest|      19|    17.4|            0|    1241.565|\n",
            "+---------+--------+--------+-------------+------------+\n",
            "\n"
          ]
        }
      ]
    },
    {
      "cell_type": "code",
      "metadata": {
        "id": "ddvvsB3JRUA-",
        "outputId": "d3d3c140-a876-4b6f-b2d7-7ff3be07be49"
      },
      "source": [
        "df.agg({\"bmi\":\"max\"}).show()"
      ],
      "execution_count": null,
      "outputs": [
        {
          "name": "stdout",
          "output_type": "stream",
          "text": [
            "+--------+\n",
            "|max(bmi)|\n",
            "+--------+\n",
            "|   53.13|\n",
            "+--------+\n",
            "\n"
          ]
        }
      ]
    },
    {
      "cell_type": "code",
      "metadata": {
        "id": "p60un5rcRUA_",
        "outputId": "77588135-6163-4ca3-ceb0-3c7031ab8e7a"
      },
      "source": [
        "df.filter(\"bmi==53.13\").show(30)   ##lets see who is this person"
      ],
      "execution_count": null,
      "outputs": [
        {
          "name": "stdout",
          "output_type": "stream",
          "text": [
            "+---+----+-----+--------+------+---------+---------+\n",
            "|age| sex|  bmi|children|smoker|   region|  charges|\n",
            "+---+----+-----+--------+------+---------+---------+\n",
            "| 18|male|53.13|       0|    no|southeast|1163.4627|\n",
            "+---+----+-----+--------+------+---------+---------+\n",
            "\n"
          ]
        }
      ]
    },
    {
      "cell_type": "code",
      "metadata": {
        "id": "gqbdgLJJRUBA",
        "outputId": "6242be65-ca8a-485c-d314-ec664388c40a"
      },
      "source": [
        "df.agg({\"bmi\":\"min\"}).show()"
      ],
      "execution_count": null,
      "outputs": [
        {
          "name": "stdout",
          "output_type": "stream",
          "text": [
            "+--------+\n",
            "|min(bmi)|\n",
            "+--------+\n",
            "|   15.96|\n",
            "+--------+\n",
            "\n"
          ]
        }
      ]
    },
    {
      "cell_type": "code",
      "metadata": {
        "id": "7i_gfJaNRUBB",
        "outputId": "15a080e1-4e3b-45d3-fa0d-7ae5765856b2"
      },
      "source": [
        "df.filter(\"bmi==15.96\").show(30)   ##lets see who is this person"
      ],
      "execution_count": null,
      "outputs": [
        {
          "name": "stdout",
          "output_type": "stream",
          "text": [
            "+---+----+-----+--------+------+---------+---------+\n",
            "|age| sex|  bmi|children|smoker|   region|  charges|\n",
            "+---+----+-----+--------+------+---------+---------+\n",
            "| 18|male|15.96|       0|    no|northeast|1694.7964|\n",
            "+---+----+-----+--------+------+---------+---------+\n",
            "\n"
          ]
        }
      ]
    },
    {
      "cell_type": "code",
      "metadata": {
        "id": "9pJtIw86RUBB",
        "outputId": "01c5f141-2670-436b-9519-383e59d5fa08"
      },
      "source": [
        "df.agg({\"charges\":\"min\"}).show()"
      ],
      "execution_count": null,
      "outputs": [
        {
          "name": "stdout",
          "output_type": "stream",
          "text": [
            "+------------+\n",
            "|min(charges)|\n",
            "+------------+\n",
            "|   1121.8739|\n",
            "+------------+\n",
            "\n"
          ]
        }
      ]
    },
    {
      "cell_type": "code",
      "metadata": {
        "id": "Mp8zKbL_RUBC",
        "outputId": "3c8b4329-26fb-45e2-a949-db19fb235f1c"
      },
      "source": [
        "df.agg({\"charges\":\"max\"}).show()"
      ],
      "execution_count": null,
      "outputs": [
        {
          "name": "stdout",
          "output_type": "stream",
          "text": [
            "+------------+\n",
            "|max(charges)|\n",
            "+------------+\n",
            "| 63770.42801|\n",
            "+------------+\n",
            "\n"
          ]
        }
      ]
    },
    {
      "cell_type": "code",
      "metadata": {
        "id": "TN2V4sxpRUBD",
        "outputId": "5a53c67d-15c7-48d8-bec7-db8989745ef8"
      },
      "source": [
        "df.filter(\"charges==63770.42801\").show(30)   ##lets see who is this person"
      ],
      "execution_count": null,
      "outputs": [
        {
          "name": "stdout",
          "output_type": "stream",
          "text": [
            "+---+------+-----+--------+------+---------+-----------+\n",
            "|age|   sex|  bmi|children|smoker|   region|    charges|\n",
            "+---+------+-----+--------+------+---------+-----------+\n",
            "| 54|female|47.41|       0|   yes|southeast|63770.42801|\n",
            "+---+------+-----+--------+------+---------+-----------+\n",
            "\n"
          ]
        }
      ]
    },
    {
      "cell_type": "markdown",
      "metadata": {
        "id": "-dEf9haKRUBE"
      },
      "source": [
        "## PART (5) FUNCTIONS"
      ]
    },
    {
      "cell_type": "code",
      "metadata": {
        "id": "IcXMKXVqRUBE"
      },
      "source": [
        "from pyspark.sql.functions import countDistinct, avg, stddev,max,min\n",
        "from pyspark.sql.functions import format_number"
      ],
      "execution_count": null,
      "outputs": []
    },
    {
      "cell_type": "code",
      "metadata": {
        "id": "Uz98riztRUBE",
        "outputId": "066867d4-44c8-4d84-eb66-9337e4186232"
      },
      "source": [
        "df.select(avg(\"bmi\")).show()"
      ],
      "execution_count": null,
      "outputs": [
        {
          "name": "stdout",
          "output_type": "stream",
          "text": [
            "+------------------+\n",
            "|          avg(bmi)|\n",
            "+------------------+\n",
            "|30.663396860986538|\n",
            "+------------------+\n",
            "\n"
          ]
        }
      ]
    },
    {
      "cell_type": "code",
      "metadata": {
        "id": "ZQMMsWJaRUBF",
        "outputId": "034c8de2-826d-47cf-cfee-576d0064483f"
      },
      "source": [
        "df.select(avg(\"age\")).show()\n",
        "df.select(stddev(\"age\")).show()\n",
        "df.select(max(\"age\")).show()\n",
        "df.select(min(\"age\")).show()"
      ],
      "execution_count": null,
      "outputs": [
        {
          "name": "stdout",
          "output_type": "stream",
          "text": [
            "+-----------------+\n",
            "|         avg(age)|\n",
            "+-----------------+\n",
            "|39.20702541106129|\n",
            "+-----------------+\n",
            "\n",
            "+------------------+\n",
            "|  stddev_samp(age)|\n",
            "+------------------+\n",
            "|14.049960379216147|\n",
            "+------------------+\n",
            "\n",
            "+--------+\n",
            "|max(age)|\n",
            "+--------+\n",
            "|      64|\n",
            "+--------+\n",
            "\n",
            "+--------+\n",
            "|min(age)|\n",
            "+--------+\n",
            "|      18|\n",
            "+--------+\n",
            "\n"
          ]
        }
      ]
    },
    {
      "cell_type": "code",
      "metadata": {
        "id": "PADi2y1RRUBG",
        "outputId": "fc64c959-0dd6-4b69-e784-eb9c8b5aee36"
      },
      "source": [
        "sd=df.select(stddev(\"age\")).show()"
      ],
      "execution_count": null,
      "outputs": [
        {
          "name": "stdout",
          "output_type": "stream",
          "text": [
            "+------------------+\n",
            "|  stddev_samp(age)|\n",
            "+------------------+\n",
            "|14.049960379216147|\n",
            "+------------------+\n",
            "\n"
          ]
        }
      ]
    },
    {
      "cell_type": "code",
      "metadata": {
        "id": "ImjpfUAaRUBH",
        "outputId": "5afa8535-cfe3-4f95-cf82-913e98de8ef2"
      },
      "source": [
        "from pyspark.sql.functions import format_number ## lets truncate the value to 2 digits\n",
        "\n",
        "asd=df.select(stddev(\"age\").alias('std'))\n",
        "asd.show()"
      ],
      "execution_count": null,
      "outputs": [
        {
          "name": "stdout",
          "output_type": "stream",
          "text": [
            "+------------------+\n",
            "|               std|\n",
            "+------------------+\n",
            "|14.049960379216147|\n",
            "+------------------+\n",
            "\n"
          ]
        }
      ]
    },
    {
      "cell_type": "code",
      "metadata": {
        "id": "C31zqY66RUBI",
        "outputId": "fddf7277-d886-4629-ab2c-39cf43738276"
      },
      "source": [
        "asd.select(format_number('std',2)).show()"
      ],
      "execution_count": null,
      "outputs": [
        {
          "name": "stdout",
          "output_type": "stream",
          "text": [
            "+---------------------+\n",
            "|format_number(std, 2)|\n",
            "+---------------------+\n",
            "|                14.05|\n",
            "+---------------------+\n",
            "\n"
          ]
        }
      ]
    },
    {
      "cell_type": "code",
      "metadata": {
        "id": "AaC4Of7yRUBJ",
        "outputId": "76ed8687-d3cb-40f1-c020-b6ac333313b7"
      },
      "source": [
        "asd1=df.select(avg(\"age\").alias('std'))\n",
        "asd1.show()"
      ],
      "execution_count": null,
      "outputs": [
        {
          "name": "stdout",
          "output_type": "stream",
          "text": [
            "+-----------------+\n",
            "|              std|\n",
            "+-----------------+\n",
            "|39.20702541106129|\n",
            "+-----------------+\n",
            "\n"
          ]
        }
      ]
    },
    {
      "cell_type": "code",
      "metadata": {
        "id": "fqpmQvtdRUBK",
        "outputId": "0a36f3ff-35a3-4ad9-eee8-6f6d52354f35"
      },
      "source": [
        "asd1.select(format_number('std',0)).show()"
      ],
      "execution_count": null,
      "outputs": [
        {
          "name": "stdout",
          "output_type": "stream",
          "text": [
            "+---------------------+\n",
            "|format_number(std, 0)|\n",
            "+---------------------+\n",
            "|                   39|\n",
            "+---------------------+\n",
            "\n"
          ]
        }
      ]
    },
    {
      "cell_type": "code",
      "metadata": {
        "id": "vedKpNewRUBK",
        "outputId": "5dd50266-95f0-4a70-aadf-b5723e6da7c1"
      },
      "source": [
        "df.orderBy(\"charges\").show()"
      ],
      "execution_count": null,
      "outputs": [
        {
          "name": "stdout",
          "output_type": "stream",
          "text": [
            "+---+----+-----+--------+------+---------+---------+\n",
            "|age| sex|  bmi|children|smoker|   region|  charges|\n",
            "+---+----+-----+--------+------+---------+---------+\n",
            "| 18|male|23.21|       0|    no|southeast|1121.8739|\n",
            "| 18|male|30.14|       0|    no|southeast|1131.5066|\n",
            "| 18|male|33.33|       0|    no|southeast|1135.9407|\n",
            "| 18|male|33.66|       0|    no|southeast|1136.3994|\n",
            "| 18|male| 34.1|       0|    no|southeast| 1137.011|\n",
            "| 18|male|34.43|       0|    no|southeast|1137.4697|\n",
            "| 18|male|37.29|       0|    no|southeast|1141.4451|\n",
            "| 18|male|41.14|       0|    no|southeast|1146.7966|\n",
            "| 18|male|43.01|       0|    no|southeast|1149.3959|\n",
            "| 18|male|53.13|       0|    no|southeast|1163.4627|\n",
            "| 19|male| 19.8|       0|    no|southwest| 1241.565|\n",
            "| 19|male| 20.3|       0|    no|southwest|  1242.26|\n",
            "| 19|male| 20.7|       0|    no|southwest| 1242.816|\n",
            "| 19|male| 27.6|       0|    no|southwest| 1252.407|\n",
            "| 19|male| 28.7|       0|    no|southwest| 1253.936|\n",
            "| 19|male| 30.4|       0|    no|southwest| 1256.299|\n",
            "| 19|male| 34.1|       0|    no|southwest| 1261.442|\n",
            "| 19|male| 34.4|       0|    no|southwest| 1261.859|\n",
            "| 19|male| 35.4|       0|    no|southwest| 1263.249|\n",
            "| 20|male|33.33|       0|    no|southeast|1391.5287|\n",
            "+---+----+-----+--------+------+---------+---------+\n",
            "only showing top 20 rows\n",
            "\n"
          ]
        }
      ]
    },
    {
      "cell_type": "code",
      "metadata": {
        "id": "4HUQ_eDXRUBL",
        "outputId": "84b45fe8-06fb-41cf-a1a5-bf1a9c2bf6f8"
      },
      "source": [
        "df.orderBy(df[\"charges\"].desc()).show(30)"
      ],
      "execution_count": null,
      "outputs": [
        {
          "name": "stdout",
          "output_type": "stream",
          "text": [
            "+---+------+------+--------+------+---------+-----------+\n",
            "|age|   sex|   bmi|children|smoker|   region|    charges|\n",
            "+---+------+------+--------+------+---------+-----------+\n",
            "| 54|female| 47.41|       0|   yes|southeast|63770.42801|\n",
            "| 45|  male| 30.36|       0|   yes|southeast|62592.87309|\n",
            "| 52|  male|34.485|       3|   yes|northwest|60021.39897|\n",
            "| 31|female|38.095|       1|   yes|northeast|58571.07448|\n",
            "| 33|female| 35.53|       0|   yes|northwest|55135.40209|\n",
            "| 60|  male|  32.8|       0|   yes|southwest|52590.82939|\n",
            "| 28|  male|  36.4|       1|   yes|southwest|51194.55914|\n",
            "| 64|  male| 36.96|       2|   yes|southeast| 49577.6624|\n",
            "| 59|  male| 41.14|       1|   yes|southeast| 48970.2476|\n",
            "| 44|female| 38.06|       0|   yes|southeast|48885.13561|\n",
            "| 63|female|  37.7|       0|   yes|southwest|   48824.45|\n",
            "| 57|  male| 42.13|       1|   yes|southeast| 48675.5177|\n",
            "| 60|  male| 40.92|       0|   yes|southeast| 48673.5588|\n",
            "| 54|  male|40.565|       3|   yes|northeast|48549.17835|\n",
            "| 61|female|36.385|       1|   yes|northeast|48517.56315|\n",
            "| 60|  male|  39.9|       0|   yes|southwest|  48173.361|\n",
            "| 64|female|  33.8|       1|   yes|southwest|   47928.03|\n",
            "| 59|female|36.765|       1|   yes|northeast|47896.79135|\n",
            "| 58|  male|36.955|       2|   yes|northwest|47496.49445|\n",
            "| 51|  male|  42.9|       2|   yes|southeast|  47462.894|\n",
            "| 61|  male|  36.3|       1|   yes|southwest|   47403.88|\n",
            "| 63|female|  32.2|       2|   yes|southwest|  47305.305|\n",
            "| 64|female|  31.3|       2|   yes|southwest|  47291.055|\n",
            "| 52|  male|  41.8|       2|   yes|southeast|  47269.854|\n",
            "| 63|  male| 35.09|       0|   yes|southeast| 47055.5321|\n",
            "| 64|  male| 33.88|       0|   yes|southeast| 46889.2612|\n",
            "| 62|  male|30.875|       3|   yes|northwest|46718.16325|\n",
            "| 53|female| 36.86|       3|   yes|northwest| 46661.4424|\n",
            "| 61|  male| 35.86|       0|   yes|southeast| 46599.1084|\n",
            "| 51|female| 37.05|       3|   yes|northeast| 46255.1125|\n",
            "+---+------+------+--------+------+---------+-----------+\n",
            "only showing top 30 rows\n",
            "\n"
          ]
        }
      ]
    },
    {
      "cell_type": "code",
      "metadata": {
        "id": "8tbmdWIQRUBM",
        "outputId": "5e4711b0-ab4b-47a2-f050-8c05ab4beb5b"
      },
      "source": [
        "df.orderBy(df[\"children\"].desc()).show(30)"
      ],
      "execution_count": null,
      "outputs": [
        {
          "name": "stdout",
          "output_type": "stream",
          "text": [
            "+---+------+------+--------+------+---------+-----------+\n",
            "|age|   sex|   bmi|children|smoker|   region|    charges|\n",
            "+---+------+------+--------+------+---------+-----------+\n",
            "| 31|  male|  28.5|       5|    no|northeast|   6799.458|\n",
            "| 49|female|  31.9|       5|    no|southwest|  11552.904|\n",
            "| 43|  male| 25.52|       5|    no|southeast|14478.33015|\n",
            "| 19|female|  28.6|       5|    no|southwest|   4687.797|\n",
            "| 20|female|  37.0|       5|    no|southwest|    4830.63|\n",
            "| 41|  male| 29.64|       5|    no|northeast|  9222.4026|\n",
            "| 39|female| 23.87|       5|    no|southeast|  8582.3023|\n",
            "| 28|  male|  24.3|       5|    no|southwest|   5615.369|\n",
            "| 33|  male|  42.4|       5|    no|southwest|   6666.243|\n",
            "| 33|  male| 33.44|       5|    no|southeast|  6653.7886|\n",
            "| 25|  male|  23.9|       5|    no|southwest|   5080.096|\n",
            "| 46|  male|  25.8|       5|    no|southwest|   10096.97|\n",
            "| 39|female|24.225|       5|    no|northwest| 8965.79575|\n",
            "| 45|  male| 24.31|       5|    no|southeast|  9788.8659|\n",
            "| 39|female| 34.32|       5|    no|southeast|  8596.8278|\n",
            "| 20|  male|30.115|       5|    no|northeast| 4915.05985|\n",
            "| 52|female| 46.75|       5|    no|southeast| 12592.5345|\n",
            "| 39|female|  18.3|       5|   yes|southwest|   19023.26|\n",
            "| 26|female| 29.64|       4|    no|northeast|24671.66334|\n",
            "| 24|  male| 33.63|       4|    no|northeast|17128.42608|\n",
            "| 25|  male|26.695|       4|    no|northwest| 4877.98105|\n",
            "| 40|female|  29.3|       4|    no|southwest|15828.82173|\n",
            "| 40|  male|30.875|       4|    no|northwest| 8162.71625|\n",
            "| 61|female| 33.33|       4|    no|southeast|36580.28216|\n",
            "| 49|female| 41.47|       4|    no|southeast| 10977.2063|\n",
            "| 36|female| 29.04|       4|    no|southeast|  7243.8136|\n",
            "| 37|  male|  34.1|       4|   yes|southwest|  40182.246|\n",
            "| 29|female|  25.6|       4|    no|southwest|   5708.867|\n",
            "| 25|  male| 33.66|       4|    no|southeast|  4504.6624|\n",
            "| 21|  male|  25.7|       4|   yes|southwest|  17942.106|\n",
            "+---+------+------+--------+------+---------+-----------+\n",
            "only showing top 30 rows\n",
            "\n"
          ]
        }
      ]
    },
    {
      "cell_type": "markdown",
      "metadata": {
        "id": "GNYv9RqpRUBP"
      },
      "source": [
        "##  PART(6) Machine Learning Model"
      ]
    },
    {
      "cell_type": "code",
      "metadata": {
        "id": "HIZhQYRxRUBP"
      },
      "source": [
        "import numpy as np\n",
        "\n",
        "from pyspark.ml.feature import StringIndexer, OneHotEncoder \n",
        "\n",
        "##One Hot Encoder used for encoding the categorical variables to numerical values.\n",
        "## ML CANNOT PROCESS NON NUMERIC DATA (IN OUR DATA SEX, REGION AND SMOKER ARE CATEGORICAL)\n",
        "\n",
        "from pyspark.ml.feature import VectorAssembler\n",
        "from pyspark.ml.feature import MinMaxScaler, StandardScaler\n",
        "from pyspark.ml import Pipeline\n",
        "\n",
        "#ML Logisitic Regression\n",
        "from pyspark.ml.classification import LogisticRegression\n",
        "\n",
        "\n",
        "from pyspark.ml.tuning import ParamGridBuilder, CrossValidator\n",
        "\n",
        "##Cross validation is used to test/train all data in batches. Helps in forming a clear result\n",
        "\n",
        "import time\n",
        "\n"
      ],
      "execution_count": null,
      "outputs": []
    },
    {
      "cell_type": "code",
      "metadata": {
        "id": "wesuhftaRUBQ",
        "outputId": "be1ac1ce-1eaa-41a3-a8e0-c7f5fb3244b6"
      },
      "source": [
        "df.corr(\"age\",\"charges\")\n",
        "\n",
        "\n"
      ],
      "execution_count": null,
      "outputs": [
        {
          "data": {
            "text/plain": [
              "0.299008193330648"
            ]
          },
          "execution_count": 57,
          "metadata": {},
          "output_type": "execute_result"
        }
      ]
    },
    {
      "cell_type": "code",
      "metadata": {
        "id": "KHNIIGZ4RUBR",
        "outputId": "8a61fe3f-6440-411a-8781-75501fe98b73"
      },
      "source": [
        "df.corr(\"age\",\"bmi\")"
      ],
      "execution_count": null,
      "outputs": [
        {
          "data": {
            "text/plain": [
              "0.1092718815485351"
            ]
          },
          "execution_count": 58,
          "metadata": {},
          "output_type": "execute_result"
        }
      ]
    },
    {
      "cell_type": "code",
      "metadata": {
        "id": "2f8XtBRxRUBS",
        "outputId": "c43d64f9-4d38-4d7e-fd0a-c29813fdd230"
      },
      "source": [
        "df.corr(\"charges\",\"bmi\")"
      ],
      "execution_count": null,
      "outputs": [
        {
          "data": {
            "text/plain": [
              "0.19834096883362906"
            ]
          },
          "execution_count": 59,
          "metadata": {},
          "output_type": "execute_result"
        }
      ]
    },
    {
      "cell_type": "code",
      "metadata": {
        "id": "zpWp3b55RUBS"
      },
      "source": [
        "from pyspark.sql.functions import isnan, when, count, col\n",
        "def get_null_value_count(data):\n",
        "    data.select([count(when(isnan(c) | col(c).isNull(),c)).alias(c) for c in data.columns]).show() ##"
      ],
      "execution_count": null,
      "outputs": []
    },
    {
      "cell_type": "code",
      "metadata": {
        "id": "3iB8c9IuRUBT",
        "outputId": "bcaf947b-0884-4471-9da2-8aa002d1323d"
      },
      "source": [
        "get_null_value_count(df)"
      ],
      "execution_count": null,
      "outputs": [
        {
          "name": "stdout",
          "output_type": "stream",
          "text": [
            "+---+---+---+--------+------+------+-------+\n",
            "|age|sex|bmi|children|smoker|region|charges|\n",
            "+---+---+---+--------+------+------+-------+\n",
            "|  0|  0|  0|       0|     0|     0|      0|\n",
            "+---+---+---+--------+------+------+-------+\n",
            "\n"
          ]
        }
      ]
    },
    {
      "cell_type": "code",
      "metadata": {
        "id": "nT1WWolqRUBU"
      },
      "source": [
        "##vc=VectorAssembler(\n",
        "  ####outputCol= 'numeric')\n",
        "\n",
        "##dx=vc.transform(df).select('numeric')\n",
        "\n",
        "##"
      ],
      "execution_count": null,
      "outputs": []
    },
    {
      "cell_type": "code",
      "metadata": {
        "id": "-YIv-Ov_RUBU",
        "outputId": "a7b0f960-e008-4cf0-e8b9-1e1add7a1495"
      },
      "source": [
        "dx.show(30)"
      ],
      "execution_count": null,
      "outputs": [
        {
          "name": "stdout",
          "output_type": "stream",
          "text": [
            "+--------------------+\n",
            "|             numeric|\n",
            "+--------------------+\n",
            "|[19.0,27.9,16884....|\n",
            "|[18.0,33.77,1725....|\n",
            "|[28.0,33.0,4449.4...|\n",
            "|[33.0,22.705,2198...|\n",
            "|[32.0,28.88,3866....|\n",
            "|[31.0,25.74,3756....|\n",
            "|[46.0,33.44,8240....|\n",
            "|[37.0,27.74,7281....|\n",
            "|[37.0,29.83,6406....|\n",
            "|[60.0,25.84,28923...|\n",
            "|[25.0,26.22,2721....|\n",
            "|[62.0,26.29,27808...|\n",
            "|[23.0,34.4,1826.8...|\n",
            "|[56.0,39.82,11090...|\n",
            "|[27.0,42.13,39611...|\n",
            "|[19.0,24.6,1837.2...|\n",
            "|[52.0,30.78,10797...|\n",
            "|[23.0,23.845,2395...|\n",
            "|[56.0,40.3,10602....|\n",
            "|[30.0,35.3,36837....|\n",
            "|[60.0,36.005,1322...|\n",
            "|[30.0,32.4,4149.7...|\n",
            "|[18.0,34.1,1137.0...|\n",
            "|[34.0,31.92,37701...|\n",
            "|[37.0,28.025,6203...|\n",
            "|[59.0,27.72,14001...|\n",
            "|[63.0,23.085,1445...|\n",
            "|[55.0,32.775,1226...|\n",
            "|[23.0,17.385,2775...|\n",
            "|[31.0,36.3,38711....|\n",
            "+--------------------+\n",
            "only showing top 30 rows\n",
            "\n"
          ]
        }
      ]
    },
    {
      "cell_type": "code",
      "metadata": {
        "id": "Mn2D-LrpRUBV",
        "outputId": "cd947bd6-1ecb-4cae-8f8d-192314f40c4b"
      },
      "source": [
        "df.select(\"*\").where(df.charges.isNull()).count()"
      ],
      "execution_count": null,
      "outputs": [
        {
          "data": {
            "text/plain": [
              "0"
            ]
          },
          "execution_count": 64,
          "metadata": {},
          "output_type": "execute_result"
        }
      ]
    },
    {
      "cell_type": "code",
      "metadata": {
        "id": "7qRAv5fcRUBV",
        "outputId": "5b55856e-6cff-48ca-94ad-23bb257d3acf"
      },
      "source": [
        "df.dtypes"
      ],
      "execution_count": null,
      "outputs": [
        {
          "data": {
            "text/plain": [
              "[('age', 'int'),\n",
              " ('sex', 'string'),\n",
              " ('bmi', 'double'),\n",
              " ('children', 'int'),\n",
              " ('smoker', 'string'),\n",
              " ('region', 'string'),\n",
              " ('charges', 'double')]"
            ]
          },
          "execution_count": 65,
          "metadata": {},
          "output_type": "execute_result"
        }
      ]
    },
    {
      "cell_type": "code",
      "metadata": {
        "id": "C_bbsQOtRUBW"
      },
      "source": [
        "cat_cols = [c[0] for c in df.dtypes if c[1]=='string']"
      ],
      "execution_count": null,
      "outputs": []
    },
    {
      "cell_type": "code",
      "metadata": {
        "id": "V662ckf_RUBW",
        "outputId": "7654d843-3430-4fda-b06e-0f2bacef41ed"
      },
      "source": [
        "cat_col=[c[0] for c in df.dtypes if c[1]==\"string\"]\n",
        "cat_col"
      ],
      "execution_count": null,
      "outputs": [
        {
          "data": {
            "text/plain": [
              "['sex', 'smoker', 'region']"
            ]
          },
          "execution_count": 67,
          "metadata": {},
          "output_type": "execute_result"
        }
      ]
    },
    {
      "cell_type": "code",
      "metadata": {
        "id": "Kwam7n7jRUBX",
        "outputId": "cc7a2a21-fc96-4311-b53a-a53b29da3dd8"
      },
      "source": [
        "len(cat_cols) "
      ],
      "execution_count": null,
      "outputs": [
        {
          "data": {
            "text/plain": [
              "3"
            ]
          },
          "execution_count": 68,
          "metadata": {},
          "output_type": "execute_result"
        }
      ]
    },
    {
      "cell_type": "markdown",
      "metadata": {
        "id": "fBUXskbyRUBX"
      },
      "source": [
        "#### 3 are categorical (non numerical)"
      ]
    },
    {
      "cell_type": "code",
      "metadata": {
        "id": "eq0s25bqRUBY",
        "outputId": "bc92560f-b06c-46bb-90fc-6dc4b3971ce3"
      },
      "source": [
        "cat_si = [c+\"_index\" for c in cat_cols] \n",
        "print (cat_si)"
      ],
      "execution_count": null,
      "outputs": [
        {
          "name": "stdout",
          "output_type": "stream",
          "text": [
            "['sex_index', 'smoker_index', 'region_index']\n"
          ]
        }
      ]
    },
    {
      "cell_type": "code",
      "metadata": {
        "id": "jmJ3bwM5RUBY",
        "outputId": "329558ae-66d2-4539-9865-3ed49d807b10"
      },
      "source": [
        "cat_oh = [c+\"_ohe\" for c in cat_cols] \n",
        "print (cat_oh)"
      ],
      "execution_count": null,
      "outputs": [
        {
          "name": "stdout",
          "output_type": "stream",
          "text": [
            "['sex_ohe', 'smoker_ohe', 'region_ohe']\n"
          ]
        }
      ]
    },
    {
      "cell_type": "code",
      "metadata": {
        "id": "d3kbuJ-PRUBZ"
      },
      "source": [
        " labelencoder= StringIndexer(\n",
        "                        inputCols=cat_cols,\n",
        "                        outputCols=cat_si\n",
        "                    )"
      ],
      "execution_count": null,
      "outputs": []
    },
    {
      "cell_type": "code",
      "metadata": {
        "id": "O0XAkM5_RUBa",
        "outputId": "0df71b2b-1d0f-430f-a612-f72280c2ac2f"
      },
      "source": [
        "indexed = labelencoder.fit(df).transform(df) \n",
        "indexed.show()"
      ],
      "execution_count": null,
      "outputs": [
        {
          "name": "stdout",
          "output_type": "stream",
          "text": [
            "+---+------+------+--------+------+---------+-----------+---------+------------+------------+\n",
            "|age|   sex|   bmi|children|smoker|   region|    charges|sex_index|smoker_index|region_index|\n",
            "+---+------+------+--------+------+---------+-----------+---------+------------+------------+\n",
            "| 19|female|  27.9|       0|   yes|southwest|  16884.924|      1.0|         1.0|         2.0|\n",
            "| 18|  male| 33.77|       1|    no|southeast|  1725.5523|      0.0|         0.0|         0.0|\n",
            "| 28|  male|  33.0|       3|    no|southeast|   4449.462|      0.0|         0.0|         0.0|\n",
            "| 33|  male|22.705|       0|    no|northwest|21984.47061|      0.0|         0.0|         1.0|\n",
            "| 32|  male| 28.88|       0|    no|northwest|  3866.8552|      0.0|         0.0|         1.0|\n",
            "| 31|female| 25.74|       0|    no|southeast|  3756.6216|      1.0|         0.0|         0.0|\n",
            "| 46|female| 33.44|       1|    no|southeast|  8240.5896|      1.0|         0.0|         0.0|\n",
            "| 37|female| 27.74|       3|    no|northwest|  7281.5056|      1.0|         0.0|         1.0|\n",
            "| 37|  male| 29.83|       2|    no|northeast|  6406.4107|      0.0|         0.0|         3.0|\n",
            "| 60|female| 25.84|       0|    no|northwest|28923.13692|      1.0|         0.0|         1.0|\n",
            "| 25|  male| 26.22|       0|    no|northeast|  2721.3208|      0.0|         0.0|         3.0|\n",
            "| 62|female| 26.29|       0|   yes|southeast| 27808.7251|      1.0|         1.0|         0.0|\n",
            "| 23|  male|  34.4|       0|    no|southwest|   1826.843|      0.0|         0.0|         2.0|\n",
            "| 56|female| 39.82|       0|    no|southeast| 11090.7178|      1.0|         0.0|         0.0|\n",
            "| 27|  male| 42.13|       0|   yes|southeast| 39611.7577|      0.0|         1.0|         0.0|\n",
            "| 19|  male|  24.6|       1|    no|southwest|   1837.237|      0.0|         0.0|         2.0|\n",
            "| 52|female| 30.78|       1|    no|northeast| 10797.3362|      1.0|         0.0|         3.0|\n",
            "| 23|  male|23.845|       0|    no|northeast| 2395.17155|      0.0|         0.0|         3.0|\n",
            "| 56|  male|  40.3|       0|    no|southwest|  10602.385|      0.0|         0.0|         2.0|\n",
            "| 30|  male|  35.3|       0|   yes|southwest|  36837.467|      0.0|         1.0|         2.0|\n",
            "+---+------+------+--------+------+---------+-----------+---------+------------+------------+\n",
            "only showing top 20 rows\n",
            "\n"
          ]
        }
      ]
    },
    {
      "cell_type": "code",
      "metadata": {
        "id": "GWjKOHJKRUBb"
      },
      "source": [
        "features= indexed.drop('charges','sex', 'smoker', 'region')"
      ],
      "execution_count": null,
      "outputs": []
    },
    {
      "cell_type": "code",
      "metadata": {
        "id": "BqVS5fxtRUBc",
        "outputId": "0b36d422-2eb0-485b-aa29-33270efbb4b4"
      },
      "source": [
        "features.show()"
      ],
      "execution_count": null,
      "outputs": [
        {
          "name": "stdout",
          "output_type": "stream",
          "text": [
            "+---+------+--------+---------+------------+------------+\n",
            "|age|   bmi|children|sex_index|smoker_index|region_index|\n",
            "+---+------+--------+---------+------------+------------+\n",
            "| 19|  27.9|       0|      1.0|         1.0|         2.0|\n",
            "| 18| 33.77|       1|      0.0|         0.0|         0.0|\n",
            "| 28|  33.0|       3|      0.0|         0.0|         0.0|\n",
            "| 33|22.705|       0|      0.0|         0.0|         1.0|\n",
            "| 32| 28.88|       0|      0.0|         0.0|         1.0|\n",
            "| 31| 25.74|       0|      1.0|         0.0|         0.0|\n",
            "| 46| 33.44|       1|      1.0|         0.0|         0.0|\n",
            "| 37| 27.74|       3|      1.0|         0.0|         1.0|\n",
            "| 37| 29.83|       2|      0.0|         0.0|         3.0|\n",
            "| 60| 25.84|       0|      1.0|         0.0|         1.0|\n",
            "| 25| 26.22|       0|      0.0|         0.0|         3.0|\n",
            "| 62| 26.29|       0|      1.0|         1.0|         0.0|\n",
            "| 23|  34.4|       0|      0.0|         0.0|         2.0|\n",
            "| 56| 39.82|       0|      1.0|         0.0|         0.0|\n",
            "| 27| 42.13|       0|      0.0|         1.0|         0.0|\n",
            "| 19|  24.6|       1|      0.0|         0.0|         2.0|\n",
            "| 52| 30.78|       1|      1.0|         0.0|         3.0|\n",
            "| 23|23.845|       0|      0.0|         0.0|         3.0|\n",
            "| 56|  40.3|       0|      0.0|         0.0|         2.0|\n",
            "| 30|  35.3|       0|      0.0|         1.0|         2.0|\n",
            "+---+------+--------+---------+------------+------------+\n",
            "only showing top 20 rows\n",
            "\n"
          ]
        }
      ]
    },
    {
      "cell_type": "code",
      "metadata": {
        "id": "fOBBFp3DRUBc",
        "outputId": "a332a806-d4c0-489e-d74a-05b66425fec2"
      },
      "source": [
        "features.columns"
      ],
      "execution_count": null,
      "outputs": [
        {
          "data": {
            "text/plain": [
              "['age', 'bmi', 'children', 'sex_index', 'smoker_index', 'region_index']"
            ]
          },
          "execution_count": 76,
          "metadata": {},
          "output_type": "execute_result"
        }
      ]
    },
    {
      "cell_type": "code",
      "metadata": {
        "id": "ba2FIKLTRUBd"
      },
      "source": [
        "from pyspark.ml.feature import VectorAssembler\n",
        "#let's assemble our features together using vectorAssembler\n",
        "assembler = VectorAssembler(\n",
        "    inputCols=features.columns,\n",
        "    outputCol=\"features\")"
      ],
      "execution_count": null,
      "outputs": []
    },
    {
      "cell_type": "code",
      "metadata": {
        "id": "xT04KBUkRUBd"
      },
      "source": [
        "output = assembler.transform(indexed).select('features','charges')"
      ],
      "execution_count": null,
      "outputs": []
    },
    {
      "cell_type": "code",
      "metadata": {
        "id": "hFBZcPTZRUBe"
      },
      "source": [
        "train,test = output.randomSplit([0.75, 0.25])"
      ],
      "execution_count": null,
      "outputs": []
    },
    {
      "cell_type": "code",
      "metadata": {
        "id": "w7xLEy9XRUBe",
        "outputId": "da176696-a8b4-413f-b17c-3b1f14956dd6"
      },
      "source": [
        "train.show()"
      ],
      "execution_count": null,
      "outputs": [
        {
          "name": "stdout",
          "output_type": "stream",
          "text": [
            "+--------------------+-----------+\n",
            "|            features|    charges|\n",
            "+--------------------+-----------+\n",
            "|(6,[0,1],[18.0,23...|  1121.8739|\n",
            "|(6,[0,1],[18.0,30...|  1131.5066|\n",
            "|(6,[0,1],[18.0,33...|  1135.9407|\n",
            "|(6,[0,1],[18.0,33...|  1136.3994|\n",
            "|(6,[0,1],[18.0,34...|   1137.011|\n",
            "|(6,[0,1],[18.0,37...|  1141.4451|\n",
            "|(6,[0,1],[18.0,41...|  1146.7966|\n",
            "|(6,[0,1],[18.0,53...|  1163.4627|\n",
            "|(6,[0,1],[21.0,31...|16586.49771|\n",
            "|(6,[0,1],[23.0,26...|  1815.8759|\n",
            "|(6,[0,1],[23.0,41...|  1837.2819|\n",
            "|(6,[0,1],[24.0,32...|  1981.5819|\n",
            "|(6,[0,1],[24.0,35...|  1986.9334|\n",
            "|(6,[0,1],[25.0,25...|  2137.6536|\n",
            "|(6,[0,1],[26.0,35...|  2322.6218|\n",
            "|(6,[0,1],[27.0,23...|   2483.736|\n",
            "|(6,[0,1],[27.0,33...|  2498.4144|\n",
            "|(6,[0,1],[28.0,38...|  2689.4954|\n",
            "|(6,[0,1],[29.0,27...|  2867.1196|\n",
            "|(6,[0,1],[34.0,34...|  3935.1799|\n",
            "+--------------------+-----------+\n",
            "only showing top 20 rows\n",
            "\n"
          ]
        }
      ]
    },
    {
      "cell_type": "code",
      "metadata": {
        "id": "uOGf00FuRUBf",
        "outputId": "31813628-f951-4dbe-bb67-ded1d43c4120"
      },
      "source": [
        "train.count()"
      ],
      "execution_count": null,
      "outputs": [
        {
          "data": {
            "text/plain": [
              "981"
            ]
          },
          "execution_count": 81,
          "metadata": {},
          "output_type": "execute_result"
        }
      ]
    },
    {
      "cell_type": "code",
      "metadata": {
        "id": "N0U-5z2VRUBg"
      },
      "source": [
        "from pyspark.ml.regression import LinearRegression\n",
        "lin_reg = LinearRegression(featuresCol = 'features', labelCol='charges')\n",
        "linear_model = lin_reg.fit(train)"
      ],
      "execution_count": null,
      "outputs": []
    },
    {
      "cell_type": "code",
      "metadata": {
        "id": "GzuMkvdZRUBg",
        "outputId": "936bddf6-8154-4de0-baa1-5c9fb218dfd9"
      },
      "source": [
        "trainSummary = linear_model.summary\n",
        "print(\"RMSE: %f\" % trainSummary.rootMeanSquaredError)\n",
        "print(\"\\nr2: %f\" % trainSummary.r2)"
      ],
      "execution_count": null,
      "outputs": [
        {
          "name": "stdout",
          "output_type": "stream",
          "text": [
            "RMSE: 5928.383100\n",
            "\n",
            "r2: 0.754597\n"
          ]
        }
      ]
    },
    {
      "cell_type": "code",
      "metadata": {
        "id": "Cr7mTvPpRUBh",
        "outputId": "310d70cd-db4e-492b-a85b-22ba877a557f"
      },
      "source": [
        "print(\"Coefficients: \" + str(linear_model.coefficients))\n",
        "print(\"\\nIntercept: \" + str(linear_model.intercept))"
      ],
      "execution_count": null,
      "outputs": [
        {
          "name": "stdout",
          "output_type": "stream",
          "text": [
            "Coefficients: [264.55577613774307,321.50371459297503,421.86993937368874,0.4414923022083133,23836.60718334585,237.50868438372711]\n",
            "\n",
            "Intercept: -12774.432519178095\n"
          ]
        }
      ]
    },
    {
      "cell_type": "code",
      "metadata": {
        "id": "jxPlDpMpRUBi",
        "outputId": "f10360e2-ddc3-4279-9213-ec82dbbf2cf2"
      },
      "source": [
        "def adj_r2(x):\n",
        "    r2 = trainSummary.r2\n",
        "    n = df.count()\n",
        "    p = len(df.columns)\n",
        "    adjusted_r2 = 1-(1-r2)*(n-1)/(n-p-1)\n",
        "    return adjusted_r2\n",
        "adj_r2(train)"
      ],
      "execution_count": null,
      "outputs": [
        {
          "data": {
            "text/plain": [
              "0.7533050794407967"
            ]
          },
          "execution_count": 87,
          "metadata": {},
          "output_type": "execute_result"
        }
      ]
    },
    {
      "cell_type": "code",
      "metadata": {
        "id": "bQF4MMX1RUBi",
        "outputId": "06f59d8c-e31b-48c3-dc4f-547558de6203"
      },
      "source": [
        "adj_r2(test)"
      ],
      "execution_count": null,
      "outputs": [
        {
          "data": {
            "text/plain": [
              "0.7533050794407967"
            ]
          },
          "execution_count": 88,
          "metadata": {},
          "output_type": "execute_result"
        }
      ]
    },
    {
      "cell_type": "markdown",
      "metadata": {
        "id": "fSsdrbAORUBj"
      },
      "source": [
        "##  PART (7) CLUSTERING"
      ]
    },
    {
      "cell_type": "code",
      "metadata": {
        "id": "v3w0iCNNRUBj"
      },
      "source": [
        "from pyspark.ml.linalg import Vectors\n",
        "from pyspark.ml.feature import VectorAssembler"
      ],
      "execution_count": null,
      "outputs": []
    },
    {
      "cell_type": "code",
      "metadata": {
        "id": "6-Cz5fHpRUBj"
      },
      "source": [
        "feat_cols=['age',\n",
        " 'bmi',\n",
        " 'children']"
      ],
      "execution_count": null,
      "outputs": []
    },
    {
      "cell_type": "code",
      "metadata": {
        "id": "7-cQhiZGRUBk"
      },
      "source": [
        "vect_assembler=VectorAssembler(inputCols=feat_cols, outputCol='features')"
      ],
      "execution_count": null,
      "outputs": []
    },
    {
      "cell_type": "code",
      "metadata": {
        "id": "I2lvpwGURUBk"
      },
      "source": [
        "final_df=vect_assembler.transform(df)"
      ],
      "execution_count": null,
      "outputs": []
    },
    {
      "cell_type": "code",
      "metadata": {
        "id": "H0RXMuf3RUBl",
        "outputId": "e0ba966e-3657-42b3-d42b-d66be94251aa"
      },
      "source": [
        "final_df.head(4)"
      ],
      "execution_count": null,
      "outputs": [
        {
          "data": {
            "text/plain": [
              "[Row(age=19, sex='female', bmi=27.9, children=0, smoker='yes', region='southwest', charges=16884.924, features=DenseVector([19.0, 27.9, 0.0])),\n",
              " Row(age=18, sex='male', bmi=33.77, children=1, smoker='no', region='southeast', charges=1725.5523, features=DenseVector([18.0, 33.77, 1.0])),\n",
              " Row(age=28, sex='male', bmi=33.0, children=3, smoker='no', region='southeast', charges=4449.462, features=DenseVector([28.0, 33.0, 3.0])),\n",
              " Row(age=33, sex='male', bmi=22.705, children=0, smoker='no', region='northwest', charges=21984.47061, features=DenseVector([33.0, 22.705, 0.0]))]"
            ]
          },
          "execution_count": 82,
          "metadata": {},
          "output_type": "execute_result"
        }
      ]
    },
    {
      "cell_type": "code",
      "metadata": {
        "id": "QflRzv2NRUBl"
      },
      "source": [
        "from pyspark.ml.feature import StandardScaler"
      ],
      "execution_count": null,
      "outputs": []
    },
    {
      "cell_type": "code",
      "metadata": {
        "id": "pqTzDvLyRUBm"
      },
      "source": [
        "scaler=StandardScaler(inputCol='features', outputCol='scaledFeatures')"
      ],
      "execution_count": null,
      "outputs": []
    },
    {
      "cell_type": "code",
      "metadata": {
        "id": "sPB-jieBRUBm"
      },
      "source": [
        "scalerModel=scaler.fit(final_df)"
      ],
      "execution_count": null,
      "outputs": []
    },
    {
      "cell_type": "code",
      "metadata": {
        "id": "v6fGLDV0RUBm"
      },
      "source": [
        "cluster_final_data=scalerModel.transform(final_df)"
      ],
      "execution_count": null,
      "outputs": []
    },
    {
      "cell_type": "code",
      "metadata": {
        "id": "r4XxdC2QRUBn",
        "outputId": "9f6edecc-7747-40a4-9b7e-af2851486775"
      },
      "source": [
        "cluster_final_data.head()"
      ],
      "execution_count": null,
      "outputs": [
        {
          "data": {
            "text/plain": [
              "Row(age=19, sex='female', bmi=27.9, children=0, smoker='yes', region='southwest', charges=16884.924, features=DenseVector([19.0, 27.9, 0.0]), scaledFeatures=DenseVector([1.3523, 4.5751, 0.0]))"
            ]
          },
          "execution_count": 87,
          "metadata": {},
          "output_type": "execute_result"
        }
      ]
    },
    {
      "cell_type": "code",
      "metadata": {
        "id": "PoKrjmJxRUBn"
      },
      "source": [
        "from pyspark.ml.clustering import KMeans"
      ],
      "execution_count": null,
      "outputs": []
    },
    {
      "cell_type": "code",
      "metadata": {
        "id": "xtg36rjbRUBn"
      },
      "source": [
        "kmeans3=KMeans(featuresCol='scaledFeatures', k=3)\n",
        "kmeans2=KMeans(featuresCol='scaledFeatures', k=2)\n",
        "kmeans4=KMeans(featuresCol='scaledFeatures', k=4)"
      ],
      "execution_count": null,
      "outputs": []
    },
    {
      "cell_type": "code",
      "metadata": {
        "id": "Er0cMtHdRUBo"
      },
      "source": [
        "model_k3=kmeans3.fit(cluster_final_data)\n",
        "model_k2=kmeans2.fit(cluster_final_data)\n",
        "model_k4=kmeans4.fit(cluster_final_data)\n"
      ],
      "execution_count": null,
      "outputs": []
    },
    {
      "cell_type": "code",
      "metadata": {
        "id": "vUT3PWrERUBp",
        "outputId": "6786f56b-9ec8-40bd-fc12-2c112ee2ecf5"
      },
      "source": [
        "model_k3.transform(cluster_final_data).groupBy('prediction').count().show()"
      ],
      "execution_count": null,
      "outputs": [
        {
          "name": "stdout",
          "output_type": "stream",
          "text": [
            "+----------+-----+\n",
            "|prediction|count|\n",
            "+----------+-----+\n",
            "|         1|  488|\n",
            "|         2|  453|\n",
            "|         0|  397|\n",
            "+----------+-----+\n",
            "\n"
          ]
        }
      ]
    },
    {
      "cell_type": "code",
      "metadata": {
        "id": "7Ou0P9hRRUBp",
        "outputId": "f0f4b2d1-ce58-4ac5-9a37-e48ceb9b5598"
      },
      "source": [
        "model_k2.transform(cluster_final_data).groupBy('prediction').count().show()"
      ],
      "execution_count": null,
      "outputs": [
        {
          "name": "stdout",
          "output_type": "stream",
          "text": [
            "+----------+-----+\n",
            "|prediction|count|\n",
            "+----------+-----+\n",
            "|         1|  641|\n",
            "|         0|  697|\n",
            "+----------+-----+\n",
            "\n"
          ]
        }
      ]
    },
    {
      "cell_type": "code",
      "metadata": {
        "id": "pDvVaGlFRUBq",
        "outputId": "ca480f44-a92d-46de-a794-12ed5b1f3780"
      },
      "source": [
        "model_k4.transform(cluster_final_data).groupBy('prediction').count().show()"
      ],
      "execution_count": null,
      "outputs": [
        {
          "name": "stdout",
          "output_type": "stream",
          "text": [
            "+----------+-----+\n",
            "|prediction|count|\n",
            "+----------+-----+\n",
            "|         1|  346|\n",
            "|         3|  286|\n",
            "|         2|  338|\n",
            "|         0|  368|\n",
            "+----------+-----+\n",
            "\n"
          ]
        }
      ]
    },
    {
      "cell_type": "markdown",
      "metadata": {
        "id": "YIClYnMARUBr"
      },
      "source": [
        "# THANKS "
      ]
    },
    {
      "cell_type": "code",
      "metadata": {
        "id": "kIT0v2hNRUBr"
      },
      "source": [
        ""
      ],
      "execution_count": null,
      "outputs": []
    }
  ]
}